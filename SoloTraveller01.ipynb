{
  "nbformat": 4,
  "nbformat_minor": 0,
  "metadata": {
    "colab": {
      "provenance": [],
      "toc_visible": true,
      "authorship_tag": "ABX9TyPnWUOyX7EdLXqc+s6MlNT4",
      "include_colab_link": true
    },
    "kernelspec": {
      "name": "python3",
      "display_name": "Python 3"
    },
    "language_info": {
      "name": "python"
    }
  },
  "cells": [
    {
      "cell_type": "markdown",
      "metadata": {
        "id": "view-in-github",
        "colab_type": "text"
      },
      "source": [
        "<a href=\"https://colab.research.google.com/github/jacqueslethuaut/hackathon-shikansen/blob/main/SoloTraveller01.ipynb\" target=\"_parent\"><img src=\"https://colab.research.google.com/assets/colab-badge.svg\" alt=\"Open In Colab\"/></a>"
      ]
    },
    {
      "cell_type": "markdown",
      "source": [
        "# Shinkansen Travel Experience\n",
        "The goal of the problem is to predict whether a passenger was satisfied or not considering his/her overall experience of traveling on the Shinkansen Bullet Train\n",
        "\n",
        "Team:\n",
        "- Raghavendar Lokineni\n",
        "- Jacques Le Thuaut"
      ],
      "metadata": {
        "id": "z3BSdCNMEKOx"
      }
    },
    {
      "cell_type": "markdown",
      "source": [
        "## Initialisation"
      ],
      "metadata": {
        "id": "FjoawQrsEjEO"
      }
    },
    {
      "cell_type": "code",
      "source": [
        "USING_GOOGLE_COLAB = True\n",
        "HACKATHON_DATA = '/Hackathon'\n",
        "TRAVEL_DATA_TRAIN = '/Traveldata_train_(1).csv'\n",
        "TRAVEL_DATA_TEST = '/Traveldata_test_(1).csv'\n",
        "SURVEY_DATA_TRAIN = '/Surveydata_train_(1).csv'\n",
        "SURVEY_DATA_TEST = '/Surveydata_test_(1).csv'\n",
        "DATA_DICTIONNARY = '/Data_Dictionary_(1).xlsx'"
      ],
      "metadata": {
        "id": "WKshMnfBEisK"
      },
      "execution_count": 1,
      "outputs": []
    },
    {
      "cell_type": "markdown",
      "source": [
        "## Connecting to Google Drive"
      ],
      "metadata": {
        "id": "rpDvHs2tEZHk"
      }
    },
    {
      "cell_type": "code",
      "execution_count": 2,
      "metadata": {
        "colab": {
          "base_uri": "https://localhost:8080/"
        },
        "id": "ktX5kLUSDlmx",
        "outputId": "ee291ba5-a766-44ee-b6b1-a2983e0f0434"
      },
      "outputs": [
        {
          "output_type": "stream",
          "name": "stdout",
          "text": [
            "Mounted at /content/drive\n"
          ]
        }
      ],
      "source": [
        "if USING_GOOGLE_COLAB:\n",
        "  from google.colab import drive\n",
        "  drive.mount('/content/drive')"
      ]
    },
    {
      "cell_type": "markdown",
      "source": [
        "## Loading librairies"
      ],
      "metadata": {
        "id": "_2IWyDZ9E47_"
      }
    },
    {
      "cell_type": "code",
      "source": [
        "import numpy as np\n",
        "import pandas as pd\n",
        "import matplotlib.pyplot as plt"
      ],
      "metadata": {
        "id": "KGiIIJYkE7La"
      },
      "execution_count": 3,
      "outputs": []
    },
    {
      "cell_type": "markdown",
      "source": [
        "## Loading the data\n"
      ],
      "metadata": {
        "id": "eQQSzqW2FYC4"
      }
    },
    {
      "cell_type": "code",
      "source": [
        "travel_data_train = pd.read_csv('/content/drive/MyDrive/Colab Notebooks' + HACKATHON_DATA + TRAVEL_DATA_TRAIN)\n",
        "travel_data_test = pd.read_csv('/content/drive/MyDrive/Colab Notebooks' + HACKATHON_DATA + TRAVEL_DATA_TEST)\n",
        "survey_data_train = pd.read_csv('/content/drive/MyDrive/Colab Notebooks' + HACKATHON_DATA + SURVEY_DATA_TRAIN)\n",
        "survey_data_test = pd.read_csv('/content/drive/MyDrive/Colab Notebooks' + HACKATHON_DATA + SURVEY_DATA_TEST)"
      ],
      "metadata": {
        "id": "Z_IqZ7OsFZv-"
      },
      "execution_count": 4,
      "outputs": []
    },
    {
      "cell_type": "markdown",
      "source": [
        "## Print shape of datasets"
      ],
      "metadata": {
        "id": "gQCc0R0kH1T9"
      }
    },
    {
      "cell_type": "markdown",
      "source": [
        "### travel data train"
      ],
      "metadata": {
        "id": "6LbBZLnNIRQw"
      }
    },
    {
      "cell_type": "code",
      "source": [
        "print(travel_data_train.head())\n",
        "print(travel_data_train.tail())"
      ],
      "metadata": {
        "colab": {
          "base_uri": "https://localhost:8080/"
        },
        "id": "UTvshcBTH5Ee",
        "outputId": "270ac509-6e7c-40fb-efba-0945a45fcc92"
      },
      "execution_count": 5,
      "outputs": [
        {
          "output_type": "stream",
          "name": "stdout",
          "text": [
            "         ID  Gender   Customer_Type   Age      Type_Travel Travel_Class  \\\n",
            "0  98800001  Female  Loyal Customer  52.0              NaN     Business   \n",
            "1  98800002    Male  Loyal Customer  48.0  Personal Travel          Eco   \n",
            "2  98800003  Female  Loyal Customer  43.0  Business Travel     Business   \n",
            "3  98800004  Female  Loyal Customer  44.0  Business Travel     Business   \n",
            "4  98800005  Female  Loyal Customer  50.0  Business Travel     Business   \n",
            "\n",
            "   Travel_Distance  Departure_Delay_in_Mins  Arrival_Delay_in_Mins  \n",
            "0              272                      0.0                    5.0  \n",
            "1             2200                      9.0                    0.0  \n",
            "2             1061                     77.0                  119.0  \n",
            "3              780                     13.0                   18.0  \n",
            "4             1981                      0.0                    0.0  \n",
            "             ID Gender   Customer_Type   Age      Type_Travel Travel_Class  \\\n",
            "94374  98894375   Male  Loyal Customer  32.0  Business Travel     Business   \n",
            "94375  98894376   Male  Loyal Customer  44.0  Business Travel     Business   \n",
            "94376  98894377   Male             NaN  63.0  Business Travel     Business   \n",
            "94377  98894378   Male  Loyal Customer  16.0  Personal Travel          Eco   \n",
            "94378  98894379   Male  Loyal Customer  54.0              NaN          Eco   \n",
            "\n",
            "       Travel_Distance  Departure_Delay_in_Mins  Arrival_Delay_in_Mins  \n",
            "94374             1357                     83.0                  125.0  \n",
            "94375              592                      5.0                   11.0  \n",
            "94376             2794                      0.0                    0.0  \n",
            "94377             2744                      0.0                    0.0  \n",
            "94378             2107                     28.0                   28.0  \n"
          ]
        }
      ]
    },
    {
      "cell_type": "code",
      "source": [
        "travel_data_train.describe().T"
      ],
      "metadata": {
        "colab": {
          "base_uri": "https://localhost:8080/",
          "height": 204
        },
        "id": "mIYQKaOsIcc1",
        "outputId": "c9155b60-0f9c-438a-e53d-18938ab12c9a"
      },
      "execution_count": 6,
      "outputs": [
        {
          "output_type": "execute_result",
          "data": {
            "text/plain": [
              "                           count          mean           std         min  \\\n",
              "ID                       94379.0  9.884719e+07  27245.014865  98800001.0   \n",
              "Age                      94346.0  3.941965e+01     15.116632         7.0   \n",
              "Travel_Distance          94379.0  1.978888e+03   1027.961019        50.0   \n",
              "Departure_Delay_in_Mins  94322.0  1.464709e+01     38.138781         0.0   \n",
              "Arrival_Delay_in_Mins    94022.0  1.500522e+01     38.439409         0.0   \n",
              "\n",
              "                                25%         50%         75%         max  \n",
              "ID                       98823595.5  98847190.0  98870784.5  98894379.0  \n",
              "Age                            27.0        40.0        51.0        85.0  \n",
              "Travel_Distance              1359.0      1923.0      2538.0      6951.0  \n",
              "Departure_Delay_in_Mins         0.0         0.0        12.0      1592.0  \n",
              "Arrival_Delay_in_Mins           0.0         0.0        13.0      1584.0  "
            ],
            "text/html": [
              "\n",
              "  <div id=\"df-ab090756-4dad-437a-b727-6eff931290be\">\n",
              "    <div class=\"colab-df-container\">\n",
              "      <div>\n",
              "<style scoped>\n",
              "    .dataframe tbody tr th:only-of-type {\n",
              "        vertical-align: middle;\n",
              "    }\n",
              "\n",
              "    .dataframe tbody tr th {\n",
              "        vertical-align: top;\n",
              "    }\n",
              "\n",
              "    .dataframe thead th {\n",
              "        text-align: right;\n",
              "    }\n",
              "</style>\n",
              "<table border=\"1\" class=\"dataframe\">\n",
              "  <thead>\n",
              "    <tr style=\"text-align: right;\">\n",
              "      <th></th>\n",
              "      <th>count</th>\n",
              "      <th>mean</th>\n",
              "      <th>std</th>\n",
              "      <th>min</th>\n",
              "      <th>25%</th>\n",
              "      <th>50%</th>\n",
              "      <th>75%</th>\n",
              "      <th>max</th>\n",
              "    </tr>\n",
              "  </thead>\n",
              "  <tbody>\n",
              "    <tr>\n",
              "      <th>ID</th>\n",
              "      <td>94379.0</td>\n",
              "      <td>9.884719e+07</td>\n",
              "      <td>27245.014865</td>\n",
              "      <td>98800001.0</td>\n",
              "      <td>98823595.5</td>\n",
              "      <td>98847190.0</td>\n",
              "      <td>98870784.5</td>\n",
              "      <td>98894379.0</td>\n",
              "    </tr>\n",
              "    <tr>\n",
              "      <th>Age</th>\n",
              "      <td>94346.0</td>\n",
              "      <td>3.941965e+01</td>\n",
              "      <td>15.116632</td>\n",
              "      <td>7.0</td>\n",
              "      <td>27.0</td>\n",
              "      <td>40.0</td>\n",
              "      <td>51.0</td>\n",
              "      <td>85.0</td>\n",
              "    </tr>\n",
              "    <tr>\n",
              "      <th>Travel_Distance</th>\n",
              "      <td>94379.0</td>\n",
              "      <td>1.978888e+03</td>\n",
              "      <td>1027.961019</td>\n",
              "      <td>50.0</td>\n",
              "      <td>1359.0</td>\n",
              "      <td>1923.0</td>\n",
              "      <td>2538.0</td>\n",
              "      <td>6951.0</td>\n",
              "    </tr>\n",
              "    <tr>\n",
              "      <th>Departure_Delay_in_Mins</th>\n",
              "      <td>94322.0</td>\n",
              "      <td>1.464709e+01</td>\n",
              "      <td>38.138781</td>\n",
              "      <td>0.0</td>\n",
              "      <td>0.0</td>\n",
              "      <td>0.0</td>\n",
              "      <td>12.0</td>\n",
              "      <td>1592.0</td>\n",
              "    </tr>\n",
              "    <tr>\n",
              "      <th>Arrival_Delay_in_Mins</th>\n",
              "      <td>94022.0</td>\n",
              "      <td>1.500522e+01</td>\n",
              "      <td>38.439409</td>\n",
              "      <td>0.0</td>\n",
              "      <td>0.0</td>\n",
              "      <td>0.0</td>\n",
              "      <td>13.0</td>\n",
              "      <td>1584.0</td>\n",
              "    </tr>\n",
              "  </tbody>\n",
              "</table>\n",
              "</div>\n",
              "      <button class=\"colab-df-convert\" onclick=\"convertToInteractive('df-ab090756-4dad-437a-b727-6eff931290be')\"\n",
              "              title=\"Convert this dataframe to an interactive table.\"\n",
              "              style=\"display:none;\">\n",
              "        \n",
              "  <svg xmlns=\"http://www.w3.org/2000/svg\" height=\"24px\"viewBox=\"0 0 24 24\"\n",
              "       width=\"24px\">\n",
              "    <path d=\"M0 0h24v24H0V0z\" fill=\"none\"/>\n",
              "    <path d=\"M18.56 5.44l.94 2.06.94-2.06 2.06-.94-2.06-.94-.94-2.06-.94 2.06-2.06.94zm-11 1L8.5 8.5l.94-2.06 2.06-.94-2.06-.94L8.5 2.5l-.94 2.06-2.06.94zm10 10l.94 2.06.94-2.06 2.06-.94-2.06-.94-.94-2.06-.94 2.06-2.06.94z\"/><path d=\"M17.41 7.96l-1.37-1.37c-.4-.4-.92-.59-1.43-.59-.52 0-1.04.2-1.43.59L10.3 9.45l-7.72 7.72c-.78.78-.78 2.05 0 2.83L4 21.41c.39.39.9.59 1.41.59.51 0 1.02-.2 1.41-.59l7.78-7.78 2.81-2.81c.8-.78.8-2.07 0-2.86zM5.41 20L4 18.59l7.72-7.72 1.47 1.35L5.41 20z\"/>\n",
              "  </svg>\n",
              "      </button>\n",
              "      \n",
              "  <style>\n",
              "    .colab-df-container {\n",
              "      display:flex;\n",
              "      flex-wrap:wrap;\n",
              "      gap: 12px;\n",
              "    }\n",
              "\n",
              "    .colab-df-convert {\n",
              "      background-color: #E8F0FE;\n",
              "      border: none;\n",
              "      border-radius: 50%;\n",
              "      cursor: pointer;\n",
              "      display: none;\n",
              "      fill: #1967D2;\n",
              "      height: 32px;\n",
              "      padding: 0 0 0 0;\n",
              "      width: 32px;\n",
              "    }\n",
              "\n",
              "    .colab-df-convert:hover {\n",
              "      background-color: #E2EBFA;\n",
              "      box-shadow: 0px 1px 2px rgba(60, 64, 67, 0.3), 0px 1px 3px 1px rgba(60, 64, 67, 0.15);\n",
              "      fill: #174EA6;\n",
              "    }\n",
              "\n",
              "    [theme=dark] .colab-df-convert {\n",
              "      background-color: #3B4455;\n",
              "      fill: #D2E3FC;\n",
              "    }\n",
              "\n",
              "    [theme=dark] .colab-df-convert:hover {\n",
              "      background-color: #434B5C;\n",
              "      box-shadow: 0px 1px 3px 1px rgba(0, 0, 0, 0.15);\n",
              "      filter: drop-shadow(0px 1px 2px rgba(0, 0, 0, 0.3));\n",
              "      fill: #FFFFFF;\n",
              "    }\n",
              "  </style>\n",
              "\n",
              "      <script>\n",
              "        const buttonEl =\n",
              "          document.querySelector('#df-ab090756-4dad-437a-b727-6eff931290be button.colab-df-convert');\n",
              "        buttonEl.style.display =\n",
              "          google.colab.kernel.accessAllowed ? 'block' : 'none';\n",
              "\n",
              "        async function convertToInteractive(key) {\n",
              "          const element = document.querySelector('#df-ab090756-4dad-437a-b727-6eff931290be');\n",
              "          const dataTable =\n",
              "            await google.colab.kernel.invokeFunction('convertToInteractive',\n",
              "                                                     [key], {});\n",
              "          if (!dataTable) return;\n",
              "\n",
              "          const docLinkHtml = 'Like what you see? Visit the ' +\n",
              "            '<a target=\"_blank\" href=https://colab.research.google.com/notebooks/data_table.ipynb>data table notebook</a>'\n",
              "            + ' to learn more about interactive tables.';\n",
              "          element.innerHTML = '';\n",
              "          dataTable['output_type'] = 'display_data';\n",
              "          await google.colab.output.renderOutput(dataTable, element);\n",
              "          const docLink = document.createElement('div');\n",
              "          docLink.innerHTML = docLinkHtml;\n",
              "          element.appendChild(docLink);\n",
              "        }\n",
              "      </script>\n",
              "    </div>\n",
              "  </div>\n",
              "  "
            ]
          },
          "metadata": {},
          "execution_count": 6
        }
      ]
    },
    {
      "cell_type": "code",
      "source": [
        "travel_data_train.info()"
      ],
      "metadata": {
        "colab": {
          "base_uri": "https://localhost:8080/"
        },
        "id": "g0iVpiEFIjqs",
        "outputId": "4316f5e7-6c8a-4ca1-fce7-e4bfa81214c1"
      },
      "execution_count": 7,
      "outputs": [
        {
          "output_type": "stream",
          "name": "stdout",
          "text": [
            "<class 'pandas.core.frame.DataFrame'>\n",
            "RangeIndex: 94379 entries, 0 to 94378\n",
            "Data columns (total 9 columns):\n",
            " #   Column                   Non-Null Count  Dtype  \n",
            "---  ------                   --------------  -----  \n",
            " 0   ID                       94379 non-null  int64  \n",
            " 1   Gender                   94302 non-null  object \n",
            " 2   Customer_Type            85428 non-null  object \n",
            " 3   Age                      94346 non-null  float64\n",
            " 4   Type_Travel              85153 non-null  object \n",
            " 5   Travel_Class             94379 non-null  object \n",
            " 6   Travel_Distance          94379 non-null  int64  \n",
            " 7   Departure_Delay_in_Mins  94322 non-null  float64\n",
            " 8   Arrival_Delay_in_Mins    94022 non-null  float64\n",
            "dtypes: float64(3), int64(2), object(4)\n",
            "memory usage: 6.5+ MB\n"
          ]
        }
      ]
    },
    {
      "cell_type": "markdown",
      "source": [
        "Verify that ID column contains non duplicated ID"
      ],
      "metadata": {
        "id": "KU6uXUyIKF1b"
      }
    },
    {
      "cell_type": "code",
      "source": [
        "travel_data_train.isnull().sum()"
      ],
      "metadata": {
        "colab": {
          "base_uri": "https://localhost:8080/"
        },
        "id": "BFkrWcLWJf2R",
        "outputId": "476e960d-fe61-4495-dbfd-0cb222d574ba"
      },
      "execution_count": 9,
      "outputs": [
        {
          "output_type": "execute_result",
          "data": {
            "text/plain": [
              "ID                            0\n",
              "Gender                       77\n",
              "Customer_Type              8951\n",
              "Age                          33\n",
              "Type_Travel                9226\n",
              "Travel_Class                  0\n",
              "Travel_Distance               0\n",
              "Departure_Delay_in_Mins      57\n",
              "Arrival_Delay_in_Mins       357\n",
              "dtype: int64"
            ]
          },
          "metadata": {},
          "execution_count": 9
        }
      ]
    },
    {
      "cell_type": "code",
      "source": [
        "100.0 * travel_data_train.isnull().sum() / travel_data_train.shape[0]"
      ],
      "metadata": {
        "colab": {
          "base_uri": "https://localhost:8080/"
        },
        "id": "imkQd8KqSk6a",
        "outputId": "3d82fb46-10d1-4d01-9b89-386797d6c99a"
      },
      "execution_count": 14,
      "outputs": [
        {
          "output_type": "execute_result",
          "data": {
            "text/plain": [
              "ID                         0.000000\n",
              "Gender                     0.081586\n",
              "Customer_Type              9.484101\n",
              "Age                        0.034965\n",
              "Type_Travel                9.775480\n",
              "Travel_Class               0.000000\n",
              "Travel_Distance            0.000000\n",
              "Departure_Delay_in_Mins    0.060395\n",
              "Arrival_Delay_in_Mins      0.378262\n",
              "dtype: float64"
            ]
          },
          "metadata": {},
          "execution_count": 14
        }
      ]
    },
    {
      "cell_type": "code",
      "source": [
        "len(travel_data_train['ID'].unique())"
      ],
      "metadata": {
        "colab": {
          "base_uri": "https://localhost:8080/"
        },
        "id": "ZJ-qBO9gJKXb",
        "outputId": "334eac65-1de5-4c5e-c91a-1c5919ec23a9"
      },
      "execution_count": 8,
      "outputs": [
        {
          "output_type": "execute_result",
          "data": {
            "text/plain": [
              "94379"
            ]
          },
          "metadata": {},
          "execution_count": 8
        }
      ]
    },
    {
      "cell_type": "markdown",
      "source": [
        "First observations :\n",
        "- the train dataset contains 94379 events with unique ID (column 'ID')\n",
        "- 8 other columns have been populated \n",
        "  - Gender with 77 missing values (~0.1%)\n",
        "  - Customer_Type with 8951 missing values (~10%)\n",
        "  - Age (range 7 - 85) with 33 missing values (~0.03%)\n",
        "  - Type_Travel with 9226 missing values (~10%)\n",
        "  - Travel_Class with no missing value\n",
        "  - Travel_Distance (range 50 - 6951) with no missing value\n",
        "  - Departure_Delay_in_Mins (range 0 - 1592) with 57 missing values (~0.06%)\n",
        "  - Arrival_Delay_in_Mins (range 0 - 1584) with 357 missing values (~0.38%) => note : this is almost the same range as departure. Could be useful for missing values"
      ],
      "metadata": {
        "id": "wezJp4QpJHGJ"
      }
    },
    {
      "cell_type": "markdown",
      "source": [
        "Verify values of 'Gender', 'Customer_Type', 'Type_Travel\\', 'Travel_Class'"
      ],
      "metadata": {
        "id": "dp7FynRGKxLR"
      }
    },
    {
      "cell_type": "code",
      "source": [
        "print('values of Gender')\n",
        "print(travel_data_train['Gender'].unique())\n",
        "print('values of Customer_Type')\n",
        "print(travel_data_train['Customer_Type'].unique())\n",
        "print('values of Type_Travel')\n",
        "print(travel_data_train['Type_Travel'].unique())\n",
        "print('values of Travel_Class')\n",
        "print(travel_data_train['Travel_Class'].unique())"
      ],
      "metadata": {
        "colab": {
          "base_uri": "https://localhost:8080/"
        },
        "id": "i7aO0eLoKwm1",
        "outputId": "8621208d-fb57-4623-e360-5abc1782020f"
      },
      "execution_count": 20,
      "outputs": [
        {
          "output_type": "stream",
          "name": "stdout",
          "text": [
            "values of Gender\n",
            "['Female' 'Male' nan]\n",
            "values of Customer_Type\n",
            "['Loyal Customer' 'Disloyal Customer' nan]\n",
            "values of Type_Travel\n",
            "[nan 'Personal Travel' 'Business Travel']\n",
            "values of Travel_Class\n",
            "['Business' 'Eco']\n"
          ]
        }
      ]
    },
    {
      "cell_type": "markdown",
      "source": [
        "Next observation :\n",
        "- Once nan fixed, 'Gender', 'Customer_Type', 'Type_Travel', 'Travel_Class' can be encoded\n",
        "\n",
        "\n"
      ],
      "metadata": {
        "id": "lcVuq7POIalN"
      }
    }
  ]
}