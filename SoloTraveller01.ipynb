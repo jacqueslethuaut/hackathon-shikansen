{
  "nbformat": 4,
  "nbformat_minor": 0,
  "metadata": {
    "colab": {
      "provenance": [],
      "toc_visible": true,
      "include_colab_link": true
    },
    "kernelspec": {
      "name": "python3",
      "display_name": "Python 3"
    },
    "language_info": {
      "name": "python"
    },
    "accelerator": "GPU",
    "gpuClass": "standard"
  },
  "cells": [
    {
      "cell_type": "markdown",
      "metadata": {
        "id": "view-in-github",
        "colab_type": "text"
      },
      "source": [
        "<a href=\"https://colab.research.google.com/github/jacqueslethuaut/hackathon-shikansen/blob/main/SoloTraveller01.ipynb\" target=\"_parent\"><img src=\"https://colab.research.google.com/assets/colab-badge.svg\" alt=\"Open In Colab\"/></a>"
      ]
    },
    {
      "cell_type": "markdown",
      "source": [
        "# Shinkansen Travel Experience\n",
        "The goal of the problem is to predict whether a passenger was satisfied or not considering his/her overall experience of traveling on the Shinkansen Bullet Train\n",
        "\n",
        "Team:\n",
        "- Raghavendar Lokineni\n",
        "- Jacques Le Thuaut"
      ],
      "metadata": {
        "id": "z3BSdCNMEKOx"
      }
    },
    {
      "cell_type": "markdown",
      "source": [
        "## Initialisation"
      ],
      "metadata": {
        "id": "FjoawQrsEjEO"
      }
    },
    {
      "cell_type": "code",
      "source": [
        "USING_GOOGLE_COLAB = True\n",
        "HACKATHON_DATA = '/Hackathon'\n",
        "TRAVEL_DATA_TRAIN = '/Traveldata_train_(1).csv'\n",
        "TRAVEL_DATA_TEST = '/Traveldata_test_(1).csv'\n",
        "SURVEY_DATA_TRAIN = '/Surveydata_train_(1).csv'\n",
        "SURVEY_DATA_TEST = '/Surveydata_test_(1).csv'\n",
        "DATA_DICTIONNARY = '/Data_Dictionary_(1).xlsx'"
      ],
      "metadata": {
        "id": "WKshMnfBEisK"
      },
      "execution_count": 157,
      "outputs": []
    },
    {
      "cell_type": "markdown",
      "source": [
        "## Connecting to Google Drive"
      ],
      "metadata": {
        "id": "rpDvHs2tEZHk"
      }
    },
    {
      "cell_type": "code",
      "execution_count": 158,
      "metadata": {
        "colab": {
          "base_uri": "https://localhost:8080/"
        },
        "id": "ktX5kLUSDlmx",
        "outputId": "a969f967-e24e-4302-90e0-84b4a39c5b90"
      },
      "outputs": [
        {
          "output_type": "stream",
          "name": "stdout",
          "text": [
            "Drive already mounted at /content/drive; to attempt to forcibly remount, call drive.mount(\"/content/drive\", force_remount=True).\n"
          ]
        }
      ],
      "source": [
        "if USING_GOOGLE_COLAB:\n",
        "  from google.colab import drive\n",
        "  drive.mount('/content/drive')"
      ]
    },
    {
      "cell_type": "markdown",
      "source": [
        "## Loading librairies"
      ],
      "metadata": {
        "id": "_2IWyDZ9E47_"
      }
    },
    {
      "cell_type": "code",
      "source": [
        "import numpy as np\n",
        "import pandas as pd\n",
        "import random\n",
        "import matplotlib.pyplot as plt\n",
        "import seaborn as sns\n",
        "import warnings\n",
        "import statistics\n",
        "\n",
        "warnings.filterwarnings(\"ignore\")"
      ],
      "metadata": {
        "id": "KGiIIJYkE7La"
      },
      "execution_count": 204,
      "outputs": []
    },
    {
      "cell_type": "markdown",
      "source": [
        "## Initialisation random function"
      ],
      "metadata": {
        "id": "qFRy4RbMuF3F"
      }
    },
    {
      "cell_type": "code",
      "source": [
        "def clear_backend():\n",
        "  np.random.seed(42)\n",
        "  random.seed(42)"
      ],
      "metadata": {
        "id": "MkQ56cAKuIl_"
      },
      "execution_count": 160,
      "outputs": []
    },
    {
      "cell_type": "markdown",
      "source": [
        "## Loading the data\n"
      ],
      "metadata": {
        "id": "eQQSzqW2FYC4"
      }
    },
    {
      "cell_type": "code",
      "source": [
        "travel_data_train = pd.read_csv('/content/drive/MyDrive/Colab Notebooks' + HACKATHON_DATA + TRAVEL_DATA_TRAIN)\n",
        "travel_data_test = pd.read_csv('/content/drive/MyDrive/Colab Notebooks' + HACKATHON_DATA + TRAVEL_DATA_TEST)\n",
        "survey_data_train = pd.read_csv('/content/drive/MyDrive/Colab Notebooks' + HACKATHON_DATA + SURVEY_DATA_TRAIN)\n",
        "survey_data_test = pd.read_csv('/content/drive/MyDrive/Colab Notebooks' + HACKATHON_DATA + SURVEY_DATA_TEST)"
      ],
      "metadata": {
        "id": "Z_IqZ7OsFZv-"
      },
      "execution_count": 161,
      "outputs": []
    },
    {
      "cell_type": "markdown",
      "source": [
        "## Print shape of datasets"
      ],
      "metadata": {
        "id": "gQCc0R0kH1T9"
      }
    },
    {
      "cell_type": "markdown",
      "source": [
        "### travel data train"
      ],
      "metadata": {
        "id": "6LbBZLnNIRQw"
      }
    },
    {
      "cell_type": "code",
      "source": [
        "print(travel_data_train.head())\n",
        "print(travel_data_train.tail())"
      ],
      "metadata": {
        "colab": {
          "base_uri": "https://localhost:8080/"
        },
        "id": "UTvshcBTH5Ee",
        "outputId": "42d20e72-a1a6-4c3d-caa6-eace923b9831"
      },
      "execution_count": 162,
      "outputs": [
        {
          "output_type": "stream",
          "name": "stdout",
          "text": [
            "         ID  Gender   Customer_Type   Age      Type_Travel Travel_Class  \\\n",
            "0  98800001  Female  Loyal Customer  52.0              NaN     Business   \n",
            "1  98800002    Male  Loyal Customer  48.0  Personal Travel          Eco   \n",
            "2  98800003  Female  Loyal Customer  43.0  Business Travel     Business   \n",
            "3  98800004  Female  Loyal Customer  44.0  Business Travel     Business   \n",
            "4  98800005  Female  Loyal Customer  50.0  Business Travel     Business   \n",
            "\n",
            "   Travel_Distance  Departure_Delay_in_Mins  Arrival_Delay_in_Mins  \n",
            "0              272                      0.0                    5.0  \n",
            "1             2200                      9.0                    0.0  \n",
            "2             1061                     77.0                  119.0  \n",
            "3              780                     13.0                   18.0  \n",
            "4             1981                      0.0                    0.0  \n",
            "             ID Gender   Customer_Type   Age      Type_Travel Travel_Class  \\\n",
            "94374  98894375   Male  Loyal Customer  32.0  Business Travel     Business   \n",
            "94375  98894376   Male  Loyal Customer  44.0  Business Travel     Business   \n",
            "94376  98894377   Male             NaN  63.0  Business Travel     Business   \n",
            "94377  98894378   Male  Loyal Customer  16.0  Personal Travel          Eco   \n",
            "94378  98894379   Male  Loyal Customer  54.0              NaN          Eco   \n",
            "\n",
            "       Travel_Distance  Departure_Delay_in_Mins  Arrival_Delay_in_Mins  \n",
            "94374             1357                     83.0                  125.0  \n",
            "94375              592                      5.0                   11.0  \n",
            "94376             2794                      0.0                    0.0  \n",
            "94377             2744                      0.0                    0.0  \n",
            "94378             2107                     28.0                   28.0  \n"
          ]
        }
      ]
    },
    {
      "cell_type": "code",
      "source": [
        "travel_data_train.describe().T"
      ],
      "metadata": {
        "colab": {
          "base_uri": "https://localhost:8080/",
          "height": 204
        },
        "id": "mIYQKaOsIcc1",
        "outputId": "926d964a-11d8-45df-8ca5-3561600e9da4"
      },
      "execution_count": 163,
      "outputs": [
        {
          "output_type": "execute_result",
          "data": {
            "text/plain": [
              "                           count          mean           std         min  \\\n",
              "ID                       94379.0  9.884719e+07  27245.014865  98800001.0   \n",
              "Age                      94346.0  3.941965e+01     15.116632         7.0   \n",
              "Travel_Distance          94379.0  1.978888e+03   1027.961019        50.0   \n",
              "Departure_Delay_in_Mins  94322.0  1.464709e+01     38.138781         0.0   \n",
              "Arrival_Delay_in_Mins    94022.0  1.500522e+01     38.439409         0.0   \n",
              "\n",
              "                                25%         50%         75%         max  \n",
              "ID                       98823595.5  98847190.0  98870784.5  98894379.0  \n",
              "Age                            27.0        40.0        51.0        85.0  \n",
              "Travel_Distance              1359.0      1923.0      2538.0      6951.0  \n",
              "Departure_Delay_in_Mins         0.0         0.0        12.0      1592.0  \n",
              "Arrival_Delay_in_Mins           0.0         0.0        13.0      1584.0  "
            ],
            "text/html": [
              "\n",
              "  <div id=\"df-f7cd4f02-ff42-4af5-8682-0a45bde5c383\">\n",
              "    <div class=\"colab-df-container\">\n",
              "      <div>\n",
              "<style scoped>\n",
              "    .dataframe tbody tr th:only-of-type {\n",
              "        vertical-align: middle;\n",
              "    }\n",
              "\n",
              "    .dataframe tbody tr th {\n",
              "        vertical-align: top;\n",
              "    }\n",
              "\n",
              "    .dataframe thead th {\n",
              "        text-align: right;\n",
              "    }\n",
              "</style>\n",
              "<table border=\"1\" class=\"dataframe\">\n",
              "  <thead>\n",
              "    <tr style=\"text-align: right;\">\n",
              "      <th></th>\n",
              "      <th>count</th>\n",
              "      <th>mean</th>\n",
              "      <th>std</th>\n",
              "      <th>min</th>\n",
              "      <th>25%</th>\n",
              "      <th>50%</th>\n",
              "      <th>75%</th>\n",
              "      <th>max</th>\n",
              "    </tr>\n",
              "  </thead>\n",
              "  <tbody>\n",
              "    <tr>\n",
              "      <th>ID</th>\n",
              "      <td>94379.0</td>\n",
              "      <td>9.884719e+07</td>\n",
              "      <td>27245.014865</td>\n",
              "      <td>98800001.0</td>\n",
              "      <td>98823595.5</td>\n",
              "      <td>98847190.0</td>\n",
              "      <td>98870784.5</td>\n",
              "      <td>98894379.0</td>\n",
              "    </tr>\n",
              "    <tr>\n",
              "      <th>Age</th>\n",
              "      <td>94346.0</td>\n",
              "      <td>3.941965e+01</td>\n",
              "      <td>15.116632</td>\n",
              "      <td>7.0</td>\n",
              "      <td>27.0</td>\n",
              "      <td>40.0</td>\n",
              "      <td>51.0</td>\n",
              "      <td>85.0</td>\n",
              "    </tr>\n",
              "    <tr>\n",
              "      <th>Travel_Distance</th>\n",
              "      <td>94379.0</td>\n",
              "      <td>1.978888e+03</td>\n",
              "      <td>1027.961019</td>\n",
              "      <td>50.0</td>\n",
              "      <td>1359.0</td>\n",
              "      <td>1923.0</td>\n",
              "      <td>2538.0</td>\n",
              "      <td>6951.0</td>\n",
              "    </tr>\n",
              "    <tr>\n",
              "      <th>Departure_Delay_in_Mins</th>\n",
              "      <td>94322.0</td>\n",
              "      <td>1.464709e+01</td>\n",
              "      <td>38.138781</td>\n",
              "      <td>0.0</td>\n",
              "      <td>0.0</td>\n",
              "      <td>0.0</td>\n",
              "      <td>12.0</td>\n",
              "      <td>1592.0</td>\n",
              "    </tr>\n",
              "    <tr>\n",
              "      <th>Arrival_Delay_in_Mins</th>\n",
              "      <td>94022.0</td>\n",
              "      <td>1.500522e+01</td>\n",
              "      <td>38.439409</td>\n",
              "      <td>0.0</td>\n",
              "      <td>0.0</td>\n",
              "      <td>0.0</td>\n",
              "      <td>13.0</td>\n",
              "      <td>1584.0</td>\n",
              "    </tr>\n",
              "  </tbody>\n",
              "</table>\n",
              "</div>\n",
              "      <button class=\"colab-df-convert\" onclick=\"convertToInteractive('df-f7cd4f02-ff42-4af5-8682-0a45bde5c383')\"\n",
              "              title=\"Convert this dataframe to an interactive table.\"\n",
              "              style=\"display:none;\">\n",
              "        \n",
              "  <svg xmlns=\"http://www.w3.org/2000/svg\" height=\"24px\"viewBox=\"0 0 24 24\"\n",
              "       width=\"24px\">\n",
              "    <path d=\"M0 0h24v24H0V0z\" fill=\"none\"/>\n",
              "    <path d=\"M18.56 5.44l.94 2.06.94-2.06 2.06-.94-2.06-.94-.94-2.06-.94 2.06-2.06.94zm-11 1L8.5 8.5l.94-2.06 2.06-.94-2.06-.94L8.5 2.5l-.94 2.06-2.06.94zm10 10l.94 2.06.94-2.06 2.06-.94-2.06-.94-.94-2.06-.94 2.06-2.06.94z\"/><path d=\"M17.41 7.96l-1.37-1.37c-.4-.4-.92-.59-1.43-.59-.52 0-1.04.2-1.43.59L10.3 9.45l-7.72 7.72c-.78.78-.78 2.05 0 2.83L4 21.41c.39.39.9.59 1.41.59.51 0 1.02-.2 1.41-.59l7.78-7.78 2.81-2.81c.8-.78.8-2.07 0-2.86zM5.41 20L4 18.59l7.72-7.72 1.47 1.35L5.41 20z\"/>\n",
              "  </svg>\n",
              "      </button>\n",
              "      \n",
              "  <style>\n",
              "    .colab-df-container {\n",
              "      display:flex;\n",
              "      flex-wrap:wrap;\n",
              "      gap: 12px;\n",
              "    }\n",
              "\n",
              "    .colab-df-convert {\n",
              "      background-color: #E8F0FE;\n",
              "      border: none;\n",
              "      border-radius: 50%;\n",
              "      cursor: pointer;\n",
              "      display: none;\n",
              "      fill: #1967D2;\n",
              "      height: 32px;\n",
              "      padding: 0 0 0 0;\n",
              "      width: 32px;\n",
              "    }\n",
              "\n",
              "    .colab-df-convert:hover {\n",
              "      background-color: #E2EBFA;\n",
              "      box-shadow: 0px 1px 2px rgba(60, 64, 67, 0.3), 0px 1px 3px 1px rgba(60, 64, 67, 0.15);\n",
              "      fill: #174EA6;\n",
              "    }\n",
              "\n",
              "    [theme=dark] .colab-df-convert {\n",
              "      background-color: #3B4455;\n",
              "      fill: #D2E3FC;\n",
              "    }\n",
              "\n",
              "    [theme=dark] .colab-df-convert:hover {\n",
              "      background-color: #434B5C;\n",
              "      box-shadow: 0px 1px 3px 1px rgba(0, 0, 0, 0.15);\n",
              "      filter: drop-shadow(0px 1px 2px rgba(0, 0, 0, 0.3));\n",
              "      fill: #FFFFFF;\n",
              "    }\n",
              "  </style>\n",
              "\n",
              "      <script>\n",
              "        const buttonEl =\n",
              "          document.querySelector('#df-f7cd4f02-ff42-4af5-8682-0a45bde5c383 button.colab-df-convert');\n",
              "        buttonEl.style.display =\n",
              "          google.colab.kernel.accessAllowed ? 'block' : 'none';\n",
              "\n",
              "        async function convertToInteractive(key) {\n",
              "          const element = document.querySelector('#df-f7cd4f02-ff42-4af5-8682-0a45bde5c383');\n",
              "          const dataTable =\n",
              "            await google.colab.kernel.invokeFunction('convertToInteractive',\n",
              "                                                     [key], {});\n",
              "          if (!dataTable) return;\n",
              "\n",
              "          const docLinkHtml = 'Like what you see? Visit the ' +\n",
              "            '<a target=\"_blank\" href=https://colab.research.google.com/notebooks/data_table.ipynb>data table notebook</a>'\n",
              "            + ' to learn more about interactive tables.';\n",
              "          element.innerHTML = '';\n",
              "          dataTable['output_type'] = 'display_data';\n",
              "          await google.colab.output.renderOutput(dataTable, element);\n",
              "          const docLink = document.createElement('div');\n",
              "          docLink.innerHTML = docLinkHtml;\n",
              "          element.appendChild(docLink);\n",
              "        }\n",
              "      </script>\n",
              "    </div>\n",
              "  </div>\n",
              "  "
            ]
          },
          "metadata": {},
          "execution_count": 163
        }
      ]
    },
    {
      "cell_type": "code",
      "source": [
        "travel_data_train.info()"
      ],
      "metadata": {
        "colab": {
          "base_uri": "https://localhost:8080/"
        },
        "id": "g0iVpiEFIjqs",
        "outputId": "8d4259c5-6cf1-4d50-ea49-568dd10b035d"
      },
      "execution_count": 164,
      "outputs": [
        {
          "output_type": "stream",
          "name": "stdout",
          "text": [
            "<class 'pandas.core.frame.DataFrame'>\n",
            "RangeIndex: 94379 entries, 0 to 94378\n",
            "Data columns (total 9 columns):\n",
            " #   Column                   Non-Null Count  Dtype  \n",
            "---  ------                   --------------  -----  \n",
            " 0   ID                       94379 non-null  int64  \n",
            " 1   Gender                   94302 non-null  object \n",
            " 2   Customer_Type            85428 non-null  object \n",
            " 3   Age                      94346 non-null  float64\n",
            " 4   Type_Travel              85153 non-null  object \n",
            " 5   Travel_Class             94379 non-null  object \n",
            " 6   Travel_Distance          94379 non-null  int64  \n",
            " 7   Departure_Delay_in_Mins  94322 non-null  float64\n",
            " 8   Arrival_Delay_in_Mins    94022 non-null  float64\n",
            "dtypes: float64(3), int64(2), object(4)\n",
            "memory usage: 6.5+ MB\n"
          ]
        }
      ]
    },
    {
      "cell_type": "markdown",
      "source": [
        "Verify that ID column contains non duplicated ID"
      ],
      "metadata": {
        "id": "KU6uXUyIKF1b"
      }
    },
    {
      "cell_type": "code",
      "source": [
        "travel_data_train.isnull().sum()"
      ],
      "metadata": {
        "colab": {
          "base_uri": "https://localhost:8080/"
        },
        "id": "BFkrWcLWJf2R",
        "outputId": "da8a6897-de06-4f93-d792-28b03de5e47d"
      },
      "execution_count": 165,
      "outputs": [
        {
          "output_type": "execute_result",
          "data": {
            "text/plain": [
              "ID                            0\n",
              "Gender                       77\n",
              "Customer_Type              8951\n",
              "Age                          33\n",
              "Type_Travel                9226\n",
              "Travel_Class                  0\n",
              "Travel_Distance               0\n",
              "Departure_Delay_in_Mins      57\n",
              "Arrival_Delay_in_Mins       357\n",
              "dtype: int64"
            ]
          },
          "metadata": {},
          "execution_count": 165
        }
      ]
    },
    {
      "cell_type": "code",
      "source": [
        "100.0 * travel_data_train.isnull().sum() / travel_data_train.shape[0]"
      ],
      "metadata": {
        "colab": {
          "base_uri": "https://localhost:8080/"
        },
        "id": "imkQd8KqSk6a",
        "outputId": "b322e67e-f1bb-47bb-cb65-16b4df33bdfd"
      },
      "execution_count": 166,
      "outputs": [
        {
          "output_type": "execute_result",
          "data": {
            "text/plain": [
              "ID                         0.000000\n",
              "Gender                     0.081586\n",
              "Customer_Type              9.484101\n",
              "Age                        0.034965\n",
              "Type_Travel                9.775480\n",
              "Travel_Class               0.000000\n",
              "Travel_Distance            0.000000\n",
              "Departure_Delay_in_Mins    0.060395\n",
              "Arrival_Delay_in_Mins      0.378262\n",
              "dtype: float64"
            ]
          },
          "metadata": {},
          "execution_count": 166
        }
      ]
    },
    {
      "cell_type": "code",
      "source": [
        "len(travel_data_train['ID'].unique())"
      ],
      "metadata": {
        "colab": {
          "base_uri": "https://localhost:8080/"
        },
        "id": "ZJ-qBO9gJKXb",
        "outputId": "7426d191-f09e-4ff0-ebd9-4b3119ef5cd8"
      },
      "execution_count": 167,
      "outputs": [
        {
          "output_type": "execute_result",
          "data": {
            "text/plain": [
              "94379"
            ]
          },
          "metadata": {},
          "execution_count": 167
        }
      ]
    },
    {
      "cell_type": "markdown",
      "source": [
        "First observations :\n",
        "- the train dataset contains 94379 events with unique ID (column 'ID')\n",
        "- 8 other columns have been populated \n",
        "  - Gender with 77 missing values (~0.1%)\n",
        "  - Customer_Type with 8951 missing values (~10%)\n",
        "  - Age (range 7 - 85) with 33 missing values (~0.03%)\n",
        "  - Type_Travel with 9226 missing values (~10%)\n",
        "  - Travel_Class with no missing value\n",
        "  - Travel_Distance (range 50 - 6951) with no missing value\n",
        "  - Departure_Delay_in_Mins (range 0 - 1592) with 57 missing values (~0.06%)\n",
        "  - Arrival_Delay_in_Mins (range 0 - 1584) with 357 missing values (~0.38%) => note : this is almost the same range as departure. Could be useful for missing values"
      ],
      "metadata": {
        "id": "wezJp4QpJHGJ"
      }
    },
    {
      "cell_type": "markdown",
      "source": [
        "Verify values of 'Gender', 'Customer_Type', 'Type_Travel\\', 'Travel_Class'"
      ],
      "metadata": {
        "id": "dp7FynRGKxLR"
      }
    },
    {
      "cell_type": "code",
      "source": [
        "print('values of Gender')\n",
        "print(travel_data_train['Gender'].unique())\n",
        "print('values of Customer_Type')\n",
        "print(travel_data_train['Customer_Type'].unique())\n",
        "print('values of Type_Travel')\n",
        "print(travel_data_train['Type_Travel'].unique())\n",
        "print('values of Travel_Class')\n",
        "print(travel_data_train['Travel_Class'].unique())"
      ],
      "metadata": {
        "colab": {
          "base_uri": "https://localhost:8080/"
        },
        "id": "i7aO0eLoKwm1",
        "outputId": "f92ad366-7167-4875-aceb-e9140ca46cb2"
      },
      "execution_count": 168,
      "outputs": [
        {
          "output_type": "stream",
          "name": "stdout",
          "text": [
            "values of Gender\n",
            "['Female' 'Male' nan]\n",
            "values of Customer_Type\n",
            "['Loyal Customer' 'Disloyal Customer' nan]\n",
            "values of Type_Travel\n",
            "[nan 'Personal Travel' 'Business Travel']\n",
            "values of Travel_Class\n",
            "['Business' 'Eco']\n"
          ]
        }
      ]
    },
    {
      "cell_type": "markdown",
      "source": [
        "Next observation :\n",
        "- Once nan fixed, 'Gender', 'Customer_Type', 'Type_Travel', 'Travel_Class' can be encoded\n",
        "\n",
        "\n"
      ],
      "metadata": {
        "id": "lcVuq7POIalN"
      }
    },
    {
      "cell_type": "markdown",
      "source": [
        "### survey data train"
      ],
      "metadata": {
        "id": "gHF8opE8nEZ6"
      }
    },
    {
      "cell_type": "code",
      "source": [
        "print(survey_data_train.head())\n",
        "print(survey_data_train.tail())"
      ],
      "metadata": {
        "colab": {
          "base_uri": "https://localhost:8080/"
        },
        "id": "hAbm_GO0nLEU",
        "outputId": "83f92f39-c9a3-43c7-f363-be9436830fe0"
      },
      "execution_count": 169,
      "outputs": [
        {
          "output_type": "stream",
          "name": "stdout",
          "text": [
            "         ID  Overall_Experience       Seat_Comfort Seat_Class  \\\n",
            "0  98800001                   0  Needs Improvement  Green Car   \n",
            "1  98800002                   0               Poor   Ordinary   \n",
            "2  98800003                   1  Needs Improvement  Green Car   \n",
            "3  98800004                   0         Acceptable   Ordinary   \n",
            "4  98800005                   1         Acceptable   Ordinary   \n",
            "\n",
            "  Arrival_Time_Convenient           Catering  Platform_Location  \\\n",
            "0               Excellent          Excellent    Very Convenient   \n",
            "1               Excellent               Poor  Needs Improvement   \n",
            "2       Needs Improvement  Needs Improvement  Needs Improvement   \n",
            "3       Needs Improvement                NaN  Needs Improvement   \n",
            "4              Acceptable         Acceptable         Manageable   \n",
            "\n",
            "  Onboard_Wifi_Service Onboard_Entertainment Online_Support  \\\n",
            "0                 Good     Needs Improvement     Acceptable   \n",
            "1                 Good                  Poor           Good   \n",
            "2    Needs Improvement                  Good      Excellent   \n",
            "3           Acceptable     Needs Improvement     Acceptable   \n",
            "4    Needs Improvement                  Good      Excellent   \n",
            "\n",
            "  Ease_of_Online_Booking    Onboard_Service            Legroom  \\\n",
            "0      Needs Improvement  Needs Improvement         Acceptable   \n",
            "1                   Good          Excellent  Needs Improvement   \n",
            "2              Excellent          Excellent          Excellent   \n",
            "3             Acceptable         Acceptable         Acceptable   \n",
            "4                   Good               Good               Good   \n",
            "\n",
            "    Baggage_Handling    CheckIn_Service        Cleanliness Online_Boarding  \n",
            "0  Needs Improvement               Good  Needs Improvement            Poor  \n",
            "1               Poor  Needs Improvement               Good            Good  \n",
            "2          Excellent               Good          Excellent       Excellent  \n",
            "3         Acceptable               Good         Acceptable      Acceptable  \n",
            "4               Good               Good               Good            Good  \n",
            "             ID  Overall_Experience       Seat_Comfort Seat_Class  \\\n",
            "94374  98894375                   0               Poor   Ordinary   \n",
            "94375  98894376                   1               Good   Ordinary   \n",
            "94376  98894377                   1  Needs Improvement  Green Car   \n",
            "94377  98894378                   0  Needs Improvement   Ordinary   \n",
            "94378  98894379                   0         Acceptable   Ordinary   \n",
            "\n",
            "      Arrival_Time_Convenient           Catering  Platform_Location  \\\n",
            "94374                    Good               Good         Convenient   \n",
            "94375                    Good               Good         Convenient   \n",
            "94376       Needs Improvement  Needs Improvement  Needs Improvement   \n",
            "94377                     NaN  Needs Improvement         Convenient   \n",
            "94378                    Poor         Acceptable         Manageable   \n",
            "\n",
            "      Onboard_Wifi_Service Onboard_Entertainment Online_Support  \\\n",
            "94374                 Poor                  Poor           Poor   \n",
            "94375    Needs Improvement             Excellent      Excellent   \n",
            "94376                 Good             Excellent           Good   \n",
            "94377                 Good     Needs Improvement           Good   \n",
            "94378           Acceptable            Acceptable     Acceptable   \n",
            "\n",
            "      Ease_of_Online_Booking Onboard_Service     Legroom Baggage_Handling  \\\n",
            "94374                   Poor            Good        Good             Good   \n",
            "94375             Acceptable      Acceptable  Acceptable       Acceptable   \n",
            "94376                   Good            Good        Good             Good   \n",
            "94377                   Good      Acceptable        Good             Good   \n",
            "94378             Acceptable            Poor        Good             Good   \n",
            "\n",
            "         CheckIn_Service Cleanliness Online_Boarding  \n",
            "94374  Needs Improvement        Good            Poor  \n",
            "94375               Good  Acceptable            Good  \n",
            "94376         Acceptable        Good      Acceptable  \n",
            "94377               Good   Excellent            Good  \n",
            "94378               Poor        Good      Acceptable  \n"
          ]
        }
      ]
    },
    {
      "cell_type": "code",
      "source": [
        "survey_data_train.describe().T"
      ],
      "metadata": {
        "colab": {
          "base_uri": "https://localhost:8080/",
          "height": 111
        },
        "id": "n0UpR5sHnfba",
        "outputId": "16e30c39-b437-4e8e-cb7e-14442c833cd2"
      },
      "execution_count": 170,
      "outputs": [
        {
          "output_type": "execute_result",
          "data": {
            "text/plain": [
              "                      count          mean           std         min  \\\n",
              "ID                  94379.0  9.884719e+07  27245.014865  98800001.0   \n",
              "Overall_Experience  94379.0  5.466576e-01      0.497821         0.0   \n",
              "\n",
              "                           25%         50%         75%         max  \n",
              "ID                  98823595.5  98847190.0  98870784.5  98894379.0  \n",
              "Overall_Experience         0.0         1.0         1.0         1.0  "
            ],
            "text/html": [
              "\n",
              "  <div id=\"df-bac6bf3a-d795-489f-8c96-f180955528c9\">\n",
              "    <div class=\"colab-df-container\">\n",
              "      <div>\n",
              "<style scoped>\n",
              "    .dataframe tbody tr th:only-of-type {\n",
              "        vertical-align: middle;\n",
              "    }\n",
              "\n",
              "    .dataframe tbody tr th {\n",
              "        vertical-align: top;\n",
              "    }\n",
              "\n",
              "    .dataframe thead th {\n",
              "        text-align: right;\n",
              "    }\n",
              "</style>\n",
              "<table border=\"1\" class=\"dataframe\">\n",
              "  <thead>\n",
              "    <tr style=\"text-align: right;\">\n",
              "      <th></th>\n",
              "      <th>count</th>\n",
              "      <th>mean</th>\n",
              "      <th>std</th>\n",
              "      <th>min</th>\n",
              "      <th>25%</th>\n",
              "      <th>50%</th>\n",
              "      <th>75%</th>\n",
              "      <th>max</th>\n",
              "    </tr>\n",
              "  </thead>\n",
              "  <tbody>\n",
              "    <tr>\n",
              "      <th>ID</th>\n",
              "      <td>94379.0</td>\n",
              "      <td>9.884719e+07</td>\n",
              "      <td>27245.014865</td>\n",
              "      <td>98800001.0</td>\n",
              "      <td>98823595.5</td>\n",
              "      <td>98847190.0</td>\n",
              "      <td>98870784.5</td>\n",
              "      <td>98894379.0</td>\n",
              "    </tr>\n",
              "    <tr>\n",
              "      <th>Overall_Experience</th>\n",
              "      <td>94379.0</td>\n",
              "      <td>5.466576e-01</td>\n",
              "      <td>0.497821</td>\n",
              "      <td>0.0</td>\n",
              "      <td>0.0</td>\n",
              "      <td>1.0</td>\n",
              "      <td>1.0</td>\n",
              "      <td>1.0</td>\n",
              "    </tr>\n",
              "  </tbody>\n",
              "</table>\n",
              "</div>\n",
              "      <button class=\"colab-df-convert\" onclick=\"convertToInteractive('df-bac6bf3a-d795-489f-8c96-f180955528c9')\"\n",
              "              title=\"Convert this dataframe to an interactive table.\"\n",
              "              style=\"display:none;\">\n",
              "        \n",
              "  <svg xmlns=\"http://www.w3.org/2000/svg\" height=\"24px\"viewBox=\"0 0 24 24\"\n",
              "       width=\"24px\">\n",
              "    <path d=\"M0 0h24v24H0V0z\" fill=\"none\"/>\n",
              "    <path d=\"M18.56 5.44l.94 2.06.94-2.06 2.06-.94-2.06-.94-.94-2.06-.94 2.06-2.06.94zm-11 1L8.5 8.5l.94-2.06 2.06-.94-2.06-.94L8.5 2.5l-.94 2.06-2.06.94zm10 10l.94 2.06.94-2.06 2.06-.94-2.06-.94-.94-2.06-.94 2.06-2.06.94z\"/><path d=\"M17.41 7.96l-1.37-1.37c-.4-.4-.92-.59-1.43-.59-.52 0-1.04.2-1.43.59L10.3 9.45l-7.72 7.72c-.78.78-.78 2.05 0 2.83L4 21.41c.39.39.9.59 1.41.59.51 0 1.02-.2 1.41-.59l7.78-7.78 2.81-2.81c.8-.78.8-2.07 0-2.86zM5.41 20L4 18.59l7.72-7.72 1.47 1.35L5.41 20z\"/>\n",
              "  </svg>\n",
              "      </button>\n",
              "      \n",
              "  <style>\n",
              "    .colab-df-container {\n",
              "      display:flex;\n",
              "      flex-wrap:wrap;\n",
              "      gap: 12px;\n",
              "    }\n",
              "\n",
              "    .colab-df-convert {\n",
              "      background-color: #E8F0FE;\n",
              "      border: none;\n",
              "      border-radius: 50%;\n",
              "      cursor: pointer;\n",
              "      display: none;\n",
              "      fill: #1967D2;\n",
              "      height: 32px;\n",
              "      padding: 0 0 0 0;\n",
              "      width: 32px;\n",
              "    }\n",
              "\n",
              "    .colab-df-convert:hover {\n",
              "      background-color: #E2EBFA;\n",
              "      box-shadow: 0px 1px 2px rgba(60, 64, 67, 0.3), 0px 1px 3px 1px rgba(60, 64, 67, 0.15);\n",
              "      fill: #174EA6;\n",
              "    }\n",
              "\n",
              "    [theme=dark] .colab-df-convert {\n",
              "      background-color: #3B4455;\n",
              "      fill: #D2E3FC;\n",
              "    }\n",
              "\n",
              "    [theme=dark] .colab-df-convert:hover {\n",
              "      background-color: #434B5C;\n",
              "      box-shadow: 0px 1px 3px 1px rgba(0, 0, 0, 0.15);\n",
              "      filter: drop-shadow(0px 1px 2px rgba(0, 0, 0, 0.3));\n",
              "      fill: #FFFFFF;\n",
              "    }\n",
              "  </style>\n",
              "\n",
              "      <script>\n",
              "        const buttonEl =\n",
              "          document.querySelector('#df-bac6bf3a-d795-489f-8c96-f180955528c9 button.colab-df-convert');\n",
              "        buttonEl.style.display =\n",
              "          google.colab.kernel.accessAllowed ? 'block' : 'none';\n",
              "\n",
              "        async function convertToInteractive(key) {\n",
              "          const element = document.querySelector('#df-bac6bf3a-d795-489f-8c96-f180955528c9');\n",
              "          const dataTable =\n",
              "            await google.colab.kernel.invokeFunction('convertToInteractive',\n",
              "                                                     [key], {});\n",
              "          if (!dataTable) return;\n",
              "\n",
              "          const docLinkHtml = 'Like what you see? Visit the ' +\n",
              "            '<a target=\"_blank\" href=https://colab.research.google.com/notebooks/data_table.ipynb>data table notebook</a>'\n",
              "            + ' to learn more about interactive tables.';\n",
              "          element.innerHTML = '';\n",
              "          dataTable['output_type'] = 'display_data';\n",
              "          await google.colab.output.renderOutput(dataTable, element);\n",
              "          const docLink = document.createElement('div');\n",
              "          docLink.innerHTML = docLinkHtml;\n",
              "          element.appendChild(docLink);\n",
              "        }\n",
              "      </script>\n",
              "    </div>\n",
              "  </div>\n",
              "  "
            ]
          },
          "metadata": {},
          "execution_count": 170
        }
      ]
    },
    {
      "cell_type": "code",
      "source": [
        "survey_data_train.info()"
      ],
      "metadata": {
        "colab": {
          "base_uri": "https://localhost:8080/"
        },
        "id": "uuJDoMB5nkjt",
        "outputId": "505703fc-7fc0-4ccf-c0e0-0b4c5fe6e988"
      },
      "execution_count": 171,
      "outputs": [
        {
          "output_type": "stream",
          "name": "stdout",
          "text": [
            "<class 'pandas.core.frame.DataFrame'>\n",
            "RangeIndex: 94379 entries, 0 to 94378\n",
            "Data columns (total 17 columns):\n",
            " #   Column                   Non-Null Count  Dtype \n",
            "---  ------                   --------------  ----- \n",
            " 0   ID                       94379 non-null  int64 \n",
            " 1   Overall_Experience       94379 non-null  int64 \n",
            " 2   Seat_Comfort             94318 non-null  object\n",
            " 3   Seat_Class               94379 non-null  object\n",
            " 4   Arrival_Time_Convenient  85449 non-null  object\n",
            " 5   Catering                 85638 non-null  object\n",
            " 6   Platform_Location        94349 non-null  object\n",
            " 7   Onboard_Wifi_Service     94349 non-null  object\n",
            " 8   Onboard_Entertainment    94361 non-null  object\n",
            " 9   Online_Support           94288 non-null  object\n",
            " 10  Ease_of_Online_Booking   94306 non-null  object\n",
            " 11  Onboard_Service          86778 non-null  object\n",
            " 12  Legroom                  94289 non-null  object\n",
            " 13  Baggage_Handling         94237 non-null  object\n",
            " 14  CheckIn_Service          94302 non-null  object\n",
            " 15  Cleanliness              94373 non-null  object\n",
            " 16  Online_Boarding          94373 non-null  object\n",
            "dtypes: int64(2), object(15)\n",
            "memory usage: 12.2+ MB\n"
          ]
        }
      ]
    },
    {
      "cell_type": "code",
      "source": [
        "travel_data_train['ID'].equals(survey_data_train['ID'])"
      ],
      "metadata": {
        "colab": {
          "base_uri": "https://localhost:8080/"
        },
        "id": "T_pi_OP5oDze",
        "outputId": "5e17bb2a-8244-44d8-d10a-3cb7a486adc5"
      },
      "execution_count": 172,
      "outputs": [
        {
          "output_type": "execute_result",
          "data": {
            "text/plain": [
              "True"
            ]
          },
          "metadata": {},
          "execution_count": 172
        }
      ]
    },
    {
      "cell_type": "markdown",
      "source": [
        "All events in survey_data_train and travel_data_train share the same IDs\n"
      ],
      "metadata": {
        "id": "GNA0HF01oWNR"
      }
    },
    {
      "cell_type": "markdown",
      "source": [
        "Verify values of 'Seat_Comfort', 'Seat_Class', 'Arrival_Time_Convenient', 'Catering', 'Platform_Location', 'Onboard_Wifi_Service', 'Legroom', 'Baggage_Handling', 'CheckIn_Service', 'Cleanliness', 'Online_Boarding'"
      ],
      "metadata": {
        "id": "883HOGL0o9FY"
      }
    },
    {
      "cell_type": "code",
      "source": [
        "print('values of Overall_Experience')\n",
        "print(survey_data_train['Overall_Experience'].unique())\n",
        "print('values of Seat_Comfort')\n",
        "print(survey_data_train['Seat_Comfort'].unique())\n",
        "print('values of Seat_Class')\n",
        "print(survey_data_train['Seat_Class'].unique())\n",
        "print('values of Arrival_Time_Convenient')\n",
        "print(survey_data_train['Arrival_Time_Convenient'].unique())\n",
        "print('values of Catering')\n",
        "print(survey_data_train['Catering'].unique())\n",
        "print('values of Platform_Location')\n",
        "print(survey_data_train['Platform_Location'].unique())\n",
        "print('values of Onboard_Wifi_Service')\n",
        "print(survey_data_train['Onboard_Wifi_Service'].unique())\n",
        "print('values of Legroom')\n",
        "print(survey_data_train['Legroom'].unique())\n",
        "print('values of Baggage_Handling')\n",
        "print(survey_data_train['Baggage_Handling'].unique())\n",
        "print('values of CheckIn_Service')\n",
        "print(survey_data_train['CheckIn_Service'].unique())\n",
        "print('values of Cleanliness')\n",
        "print(survey_data_train['Cleanliness'].unique())\n",
        "print('values of Online_Boarding')\n",
        "print(survey_data_train['Online_Boarding'].unique())\n",
        "\n"
      ],
      "metadata": {
        "colab": {
          "base_uri": "https://localhost:8080/"
        },
        "id": "D3MAVbKMozZk",
        "outputId": "5611f495-d737-45e6-ea49-8c214b1d365b"
      },
      "execution_count": 173,
      "outputs": [
        {
          "output_type": "stream",
          "name": "stdout",
          "text": [
            "values of Overall_Experience\n",
            "[0 1]\n",
            "values of Seat_Comfort\n",
            "['Needs Improvement' 'Poor' 'Acceptable' 'Good' 'Excellent'\n",
            " 'Extremely Poor' nan]\n",
            "values of Seat_Class\n",
            "['Green Car' 'Ordinary']\n",
            "values of Arrival_Time_Convenient\n",
            "['Excellent' 'Needs Improvement' 'Acceptable' nan 'Good' 'Poor'\n",
            " 'Extremely Poor']\n",
            "values of Catering\n",
            "['Excellent' 'Poor' 'Needs Improvement' nan 'Acceptable' 'Good'\n",
            " 'Extremely Poor']\n",
            "values of Platform_Location\n",
            "['Very Convenient' 'Needs Improvement' 'Manageable' 'Inconvenient'\n",
            " 'Convenient' nan 'Very Inconvenient']\n",
            "values of Onboard_Wifi_Service\n",
            "['Good' 'Needs Improvement' 'Acceptable' 'Excellent' 'Poor'\n",
            " 'Extremely Poor' nan]\n",
            "values of Legroom\n",
            "['Acceptable' 'Needs Improvement' 'Excellent' 'Good' 'Poor'\n",
            " 'Extremely Poor' nan]\n",
            "values of Baggage_Handling\n",
            "['Needs Improvement' 'Poor' 'Excellent' 'Acceptable' 'Good' nan]\n",
            "values of CheckIn_Service\n",
            "['Good' 'Needs Improvement' 'Acceptable' 'Excellent' 'Poor' nan\n",
            " 'Extremely Poor']\n",
            "values of Cleanliness\n",
            "['Needs Improvement' 'Good' 'Excellent' 'Acceptable' 'Poor'\n",
            " 'Extremely Poor' nan]\n",
            "values of Online_Boarding\n",
            "['Poor' 'Good' 'Excellent' 'Acceptable' 'Needs Improvement' nan\n",
            " 'Extremely Poor']\n"
          ]
        }
      ]
    },
    {
      "cell_type": "markdown",
      "source": [
        "The values of 'Seat_Comfort', 'Seat_Class', 'Arrival_Time_Convenient', 'Catering', 'Platform_Location', 'Onboard_Wifi_Service', 'Legroom', 'Baggage_Handling', 'CheckIn_Service', 'Cleanliness', 'Online_Boarding' can be encoded (once nan values fixed)\n"
      ],
      "metadata": {
        "id": "vEDIIbK9GDpx"
      }
    },
    {
      "cell_type": "markdown",
      "source": [
        "### train parts : merge survey dataset and travel dataset"
      ],
      "metadata": {
        "id": "2THM6qe5GR2w"
      }
    },
    {
      "cell_type": "code",
      "source": [
        "train_dataset = pd.merge(travel_data_train, survey_data_train, on='ID')"
      ],
      "metadata": {
        "id": "H7eGc1p8GRGd"
      },
      "execution_count": 174,
      "outputs": []
    },
    {
      "cell_type": "markdown",
      "source": [
        "### Descriptive statistics on train dataset (merged one)"
      ],
      "metadata": {
        "id": "zLsQcz--JX0b"
      }
    },
    {
      "cell_type": "code",
      "source": [
        "train_dataset.info()"
      ],
      "metadata": {
        "colab": {
          "base_uri": "https://localhost:8080/"
        },
        "id": "wkU2dIEeMgbZ",
        "outputId": "390fe6ac-1596-408e-e138-cc172d9fa0fb"
      },
      "execution_count": 175,
      "outputs": [
        {
          "output_type": "stream",
          "name": "stdout",
          "text": [
            "<class 'pandas.core.frame.DataFrame'>\n",
            "Int64Index: 94379 entries, 0 to 94378\n",
            "Data columns (total 25 columns):\n",
            " #   Column                   Non-Null Count  Dtype  \n",
            "---  ------                   --------------  -----  \n",
            " 0   ID                       94379 non-null  int64  \n",
            " 1   Gender                   94302 non-null  object \n",
            " 2   Customer_Type            85428 non-null  object \n",
            " 3   Age                      94346 non-null  float64\n",
            " 4   Type_Travel              85153 non-null  object \n",
            " 5   Travel_Class             94379 non-null  object \n",
            " 6   Travel_Distance          94379 non-null  int64  \n",
            " 7   Departure_Delay_in_Mins  94322 non-null  float64\n",
            " 8   Arrival_Delay_in_Mins    94022 non-null  float64\n",
            " 9   Overall_Experience       94379 non-null  int64  \n",
            " 10  Seat_Comfort             94318 non-null  object \n",
            " 11  Seat_Class               94379 non-null  object \n",
            " 12  Arrival_Time_Convenient  85449 non-null  object \n",
            " 13  Catering                 85638 non-null  object \n",
            " 14  Platform_Location        94349 non-null  object \n",
            " 15  Onboard_Wifi_Service     94349 non-null  object \n",
            " 16  Onboard_Entertainment    94361 non-null  object \n",
            " 17  Online_Support           94288 non-null  object \n",
            " 18  Ease_of_Online_Booking   94306 non-null  object \n",
            " 19  Onboard_Service          86778 non-null  object \n",
            " 20  Legroom                  94289 non-null  object \n",
            " 21  Baggage_Handling         94237 non-null  object \n",
            " 22  CheckIn_Service          94302 non-null  object \n",
            " 23  Cleanliness              94373 non-null  object \n",
            " 24  Online_Boarding          94373 non-null  object \n",
            "dtypes: float64(3), int64(3), object(19)\n",
            "memory usage: 18.7+ MB\n"
          ]
        }
      ]
    },
    {
      "cell_type": "markdown",
      "source": [
        "The first feature is useless so we can drop it"
      ],
      "metadata": {
        "id": "i0Io8Va6NWD7"
      }
    },
    {
      "cell_type": "code",
      "source": [
        "train_dataset = train_dataset.drop(train_dataset.iloc[:,[0]], axis = 1)\n",
        "train_dataset.info()"
      ],
      "metadata": {
        "colab": {
          "base_uri": "https://localhost:8080/"
        },
        "id": "NWKN4GDiNcOl",
        "outputId": "5fab9662-2e93-42bb-d4b4-4b22a5baedea"
      },
      "execution_count": 176,
      "outputs": [
        {
          "output_type": "stream",
          "name": "stdout",
          "text": [
            "<class 'pandas.core.frame.DataFrame'>\n",
            "Int64Index: 94379 entries, 0 to 94378\n",
            "Data columns (total 24 columns):\n",
            " #   Column                   Non-Null Count  Dtype  \n",
            "---  ------                   --------------  -----  \n",
            " 0   Gender                   94302 non-null  object \n",
            " 1   Customer_Type            85428 non-null  object \n",
            " 2   Age                      94346 non-null  float64\n",
            " 3   Type_Travel              85153 non-null  object \n",
            " 4   Travel_Class             94379 non-null  object \n",
            " 5   Travel_Distance          94379 non-null  int64  \n",
            " 6   Departure_Delay_in_Mins  94322 non-null  float64\n",
            " 7   Arrival_Delay_in_Mins    94022 non-null  float64\n",
            " 8   Overall_Experience       94379 non-null  int64  \n",
            " 9   Seat_Comfort             94318 non-null  object \n",
            " 10  Seat_Class               94379 non-null  object \n",
            " 11  Arrival_Time_Convenient  85449 non-null  object \n",
            " 12  Catering                 85638 non-null  object \n",
            " 13  Platform_Location        94349 non-null  object \n",
            " 14  Onboard_Wifi_Service     94349 non-null  object \n",
            " 15  Onboard_Entertainment    94361 non-null  object \n",
            " 16  Online_Support           94288 non-null  object \n",
            " 17  Ease_of_Online_Booking   94306 non-null  object \n",
            " 18  Onboard_Service          86778 non-null  object \n",
            " 19  Legroom                  94289 non-null  object \n",
            " 20  Baggage_Handling         94237 non-null  object \n",
            " 21  CheckIn_Service          94302 non-null  object \n",
            " 22  Cleanliness              94373 non-null  object \n",
            " 23  Online_Boarding          94373 non-null  object \n",
            "dtypes: float64(3), int64(2), object(19)\n",
            "memory usage: 18.0+ MB\n"
          ]
        }
      ]
    },
    {
      "cell_type": "markdown",
      "source": [
        "Prepare categorical indices"
      ],
      "metadata": {
        "id": "i10qpB35N_q_"
      }
    },
    {
      "cell_type": "code",
      "source": [
        "categorical_indices = [0, 1, 3, 4] + list(range(9, 24))\n",
        "train_dataset.iloc[:,categorical_indices] = train_dataset.iloc[:,categorical_indices].astype('category')\n",
        "train_dataset.describe(include=['category']).T"
      ],
      "metadata": {
        "colab": {
          "base_uri": "https://localhost:8080/",
          "height": 638
        },
        "id": "3own2I9MOD8j",
        "outputId": "6f368c8a-65f6-4e2d-da5b-db83ccfa9287"
      },
      "execution_count": 177,
      "outputs": [
        {
          "output_type": "execute_result",
          "data": {
            "text/plain": [
              "                         count unique              top   freq\n",
              "Gender                   94302      2           Female  47815\n",
              "Customer_Type            85428      2   Loyal Customer  69823\n",
              "Type_Travel              85153      2  Business Travel  58617\n",
              "Travel_Class             94379      2              Eco  49342\n",
              "Seat_Comfort             94318      6       Acceptable  21158\n",
              "Seat_Class               94379      2        Green Car  47435\n",
              "Arrival_Time_Convenient  85449      6             Good  19574\n",
              "Catering                 85638      6       Acceptable  18468\n",
              "Platform_Location        94349      6       Manageable  24173\n",
              "Onboard_Wifi_Service     94349      6             Good  22835\n",
              "Onboard_Entertainment    94361      6             Good  30446\n",
              "Online_Support           94288      6             Good  30016\n",
              "Ease_of_Online_Booking   94306      6             Good  28909\n",
              "Onboard_Service          86778      6             Good  27265\n",
              "Legroom                  94289      6             Good  28870\n",
              "Baggage_Handling         94237      5             Good  34944\n",
              "CheckIn_Service          94302      6             Good  26502\n",
              "Cleanliness              94373      6             Good  35427\n",
              "Online_Boarding          94373      6             Good  25533"
            ],
            "text/html": [
              "\n",
              "  <div id=\"df-8acc8cfa-6e38-4ca8-bce3-64b6b025e634\">\n",
              "    <div class=\"colab-df-container\">\n",
              "      <div>\n",
              "<style scoped>\n",
              "    .dataframe tbody tr th:only-of-type {\n",
              "        vertical-align: middle;\n",
              "    }\n",
              "\n",
              "    .dataframe tbody tr th {\n",
              "        vertical-align: top;\n",
              "    }\n",
              "\n",
              "    .dataframe thead th {\n",
              "        text-align: right;\n",
              "    }\n",
              "</style>\n",
              "<table border=\"1\" class=\"dataframe\">\n",
              "  <thead>\n",
              "    <tr style=\"text-align: right;\">\n",
              "      <th></th>\n",
              "      <th>count</th>\n",
              "      <th>unique</th>\n",
              "      <th>top</th>\n",
              "      <th>freq</th>\n",
              "    </tr>\n",
              "  </thead>\n",
              "  <tbody>\n",
              "    <tr>\n",
              "      <th>Gender</th>\n",
              "      <td>94302</td>\n",
              "      <td>2</td>\n",
              "      <td>Female</td>\n",
              "      <td>47815</td>\n",
              "    </tr>\n",
              "    <tr>\n",
              "      <th>Customer_Type</th>\n",
              "      <td>85428</td>\n",
              "      <td>2</td>\n",
              "      <td>Loyal Customer</td>\n",
              "      <td>69823</td>\n",
              "    </tr>\n",
              "    <tr>\n",
              "      <th>Type_Travel</th>\n",
              "      <td>85153</td>\n",
              "      <td>2</td>\n",
              "      <td>Business Travel</td>\n",
              "      <td>58617</td>\n",
              "    </tr>\n",
              "    <tr>\n",
              "      <th>Travel_Class</th>\n",
              "      <td>94379</td>\n",
              "      <td>2</td>\n",
              "      <td>Eco</td>\n",
              "      <td>49342</td>\n",
              "    </tr>\n",
              "    <tr>\n",
              "      <th>Seat_Comfort</th>\n",
              "      <td>94318</td>\n",
              "      <td>6</td>\n",
              "      <td>Acceptable</td>\n",
              "      <td>21158</td>\n",
              "    </tr>\n",
              "    <tr>\n",
              "      <th>Seat_Class</th>\n",
              "      <td>94379</td>\n",
              "      <td>2</td>\n",
              "      <td>Green Car</td>\n",
              "      <td>47435</td>\n",
              "    </tr>\n",
              "    <tr>\n",
              "      <th>Arrival_Time_Convenient</th>\n",
              "      <td>85449</td>\n",
              "      <td>6</td>\n",
              "      <td>Good</td>\n",
              "      <td>19574</td>\n",
              "    </tr>\n",
              "    <tr>\n",
              "      <th>Catering</th>\n",
              "      <td>85638</td>\n",
              "      <td>6</td>\n",
              "      <td>Acceptable</td>\n",
              "      <td>18468</td>\n",
              "    </tr>\n",
              "    <tr>\n",
              "      <th>Platform_Location</th>\n",
              "      <td>94349</td>\n",
              "      <td>6</td>\n",
              "      <td>Manageable</td>\n",
              "      <td>24173</td>\n",
              "    </tr>\n",
              "    <tr>\n",
              "      <th>Onboard_Wifi_Service</th>\n",
              "      <td>94349</td>\n",
              "      <td>6</td>\n",
              "      <td>Good</td>\n",
              "      <td>22835</td>\n",
              "    </tr>\n",
              "    <tr>\n",
              "      <th>Onboard_Entertainment</th>\n",
              "      <td>94361</td>\n",
              "      <td>6</td>\n",
              "      <td>Good</td>\n",
              "      <td>30446</td>\n",
              "    </tr>\n",
              "    <tr>\n",
              "      <th>Online_Support</th>\n",
              "      <td>94288</td>\n",
              "      <td>6</td>\n",
              "      <td>Good</td>\n",
              "      <td>30016</td>\n",
              "    </tr>\n",
              "    <tr>\n",
              "      <th>Ease_of_Online_Booking</th>\n",
              "      <td>94306</td>\n",
              "      <td>6</td>\n",
              "      <td>Good</td>\n",
              "      <td>28909</td>\n",
              "    </tr>\n",
              "    <tr>\n",
              "      <th>Onboard_Service</th>\n",
              "      <td>86778</td>\n",
              "      <td>6</td>\n",
              "      <td>Good</td>\n",
              "      <td>27265</td>\n",
              "    </tr>\n",
              "    <tr>\n",
              "      <th>Legroom</th>\n",
              "      <td>94289</td>\n",
              "      <td>6</td>\n",
              "      <td>Good</td>\n",
              "      <td>28870</td>\n",
              "    </tr>\n",
              "    <tr>\n",
              "      <th>Baggage_Handling</th>\n",
              "      <td>94237</td>\n",
              "      <td>5</td>\n",
              "      <td>Good</td>\n",
              "      <td>34944</td>\n",
              "    </tr>\n",
              "    <tr>\n",
              "      <th>CheckIn_Service</th>\n",
              "      <td>94302</td>\n",
              "      <td>6</td>\n",
              "      <td>Good</td>\n",
              "      <td>26502</td>\n",
              "    </tr>\n",
              "    <tr>\n",
              "      <th>Cleanliness</th>\n",
              "      <td>94373</td>\n",
              "      <td>6</td>\n",
              "      <td>Good</td>\n",
              "      <td>35427</td>\n",
              "    </tr>\n",
              "    <tr>\n",
              "      <th>Online_Boarding</th>\n",
              "      <td>94373</td>\n",
              "      <td>6</td>\n",
              "      <td>Good</td>\n",
              "      <td>25533</td>\n",
              "    </tr>\n",
              "  </tbody>\n",
              "</table>\n",
              "</div>\n",
              "      <button class=\"colab-df-convert\" onclick=\"convertToInteractive('df-8acc8cfa-6e38-4ca8-bce3-64b6b025e634')\"\n",
              "              title=\"Convert this dataframe to an interactive table.\"\n",
              "              style=\"display:none;\">\n",
              "        \n",
              "  <svg xmlns=\"http://www.w3.org/2000/svg\" height=\"24px\"viewBox=\"0 0 24 24\"\n",
              "       width=\"24px\">\n",
              "    <path d=\"M0 0h24v24H0V0z\" fill=\"none\"/>\n",
              "    <path d=\"M18.56 5.44l.94 2.06.94-2.06 2.06-.94-2.06-.94-.94-2.06-.94 2.06-2.06.94zm-11 1L8.5 8.5l.94-2.06 2.06-.94-2.06-.94L8.5 2.5l-.94 2.06-2.06.94zm10 10l.94 2.06.94-2.06 2.06-.94-2.06-.94-.94-2.06-.94 2.06-2.06.94z\"/><path d=\"M17.41 7.96l-1.37-1.37c-.4-.4-.92-.59-1.43-.59-.52 0-1.04.2-1.43.59L10.3 9.45l-7.72 7.72c-.78.78-.78 2.05 0 2.83L4 21.41c.39.39.9.59 1.41.59.51 0 1.02-.2 1.41-.59l7.78-7.78 2.81-2.81c.8-.78.8-2.07 0-2.86zM5.41 20L4 18.59l7.72-7.72 1.47 1.35L5.41 20z\"/>\n",
              "  </svg>\n",
              "      </button>\n",
              "      \n",
              "  <style>\n",
              "    .colab-df-container {\n",
              "      display:flex;\n",
              "      flex-wrap:wrap;\n",
              "      gap: 12px;\n",
              "    }\n",
              "\n",
              "    .colab-df-convert {\n",
              "      background-color: #E8F0FE;\n",
              "      border: none;\n",
              "      border-radius: 50%;\n",
              "      cursor: pointer;\n",
              "      display: none;\n",
              "      fill: #1967D2;\n",
              "      height: 32px;\n",
              "      padding: 0 0 0 0;\n",
              "      width: 32px;\n",
              "    }\n",
              "\n",
              "    .colab-df-convert:hover {\n",
              "      background-color: #E2EBFA;\n",
              "      box-shadow: 0px 1px 2px rgba(60, 64, 67, 0.3), 0px 1px 3px 1px rgba(60, 64, 67, 0.15);\n",
              "      fill: #174EA6;\n",
              "    }\n",
              "\n",
              "    [theme=dark] .colab-df-convert {\n",
              "      background-color: #3B4455;\n",
              "      fill: #D2E3FC;\n",
              "    }\n",
              "\n",
              "    [theme=dark] .colab-df-convert:hover {\n",
              "      background-color: #434B5C;\n",
              "      box-shadow: 0px 1px 3px 1px rgba(0, 0, 0, 0.15);\n",
              "      filter: drop-shadow(0px 1px 2px rgba(0, 0, 0, 0.3));\n",
              "      fill: #FFFFFF;\n",
              "    }\n",
              "  </style>\n",
              "\n",
              "      <script>\n",
              "        const buttonEl =\n",
              "          document.querySelector('#df-8acc8cfa-6e38-4ca8-bce3-64b6b025e634 button.colab-df-convert');\n",
              "        buttonEl.style.display =\n",
              "          google.colab.kernel.accessAllowed ? 'block' : 'none';\n",
              "\n",
              "        async function convertToInteractive(key) {\n",
              "          const element = document.querySelector('#df-8acc8cfa-6e38-4ca8-bce3-64b6b025e634');\n",
              "          const dataTable =\n",
              "            await google.colab.kernel.invokeFunction('convertToInteractive',\n",
              "                                                     [key], {});\n",
              "          if (!dataTable) return;\n",
              "\n",
              "          const docLinkHtml = 'Like what you see? Visit the ' +\n",
              "            '<a target=\"_blank\" href=https://colab.research.google.com/notebooks/data_table.ipynb>data table notebook</a>'\n",
              "            + ' to learn more about interactive tables.';\n",
              "          element.innerHTML = '';\n",
              "          dataTable['output_type'] = 'display_data';\n",
              "          await google.colab.output.renderOutput(dataTable, element);\n",
              "          const docLink = document.createElement('div');\n",
              "          docLink.innerHTML = docLinkHtml;\n",
              "          element.appendChild(docLink);\n",
              "        }\n",
              "      </script>\n",
              "    </div>\n",
              "  </div>\n",
              "  "
            ]
          },
          "metadata": {},
          "execution_count": 177
        }
      ]
    },
    {
      "cell_type": "markdown",
      "source": [
        "'Overall_Experience' is the target variable. Let's look the ratio of the target variable"
      ],
      "metadata": {
        "id": "CZpN0O4BPUM4"
      }
    },
    {
      "cell_type": "code",
      "source": [
        "satisfaction_dataset = train_dataset['Overall_Experience']\n",
        "train_dataset = train_dataset.drop(['Overall_Experience'], axis = 1)\n",
        "train_dataset.describe(include=['category']).T"
      ],
      "metadata": {
        "colab": {
          "base_uri": "https://localhost:8080/",
          "height": 638
        },
        "id": "786M2jFpRwtt",
        "outputId": "2d37d2a8-55a5-4c1c-c88c-5c576213dbe4"
      },
      "execution_count": 178,
      "outputs": [
        {
          "output_type": "execute_result",
          "data": {
            "text/plain": [
              "                         count unique              top   freq\n",
              "Gender                   94302      2           Female  47815\n",
              "Customer_Type            85428      2   Loyal Customer  69823\n",
              "Type_Travel              85153      2  Business Travel  58617\n",
              "Travel_Class             94379      2              Eco  49342\n",
              "Seat_Comfort             94318      6       Acceptable  21158\n",
              "Seat_Class               94379      2        Green Car  47435\n",
              "Arrival_Time_Convenient  85449      6             Good  19574\n",
              "Catering                 85638      6       Acceptable  18468\n",
              "Platform_Location        94349      6       Manageable  24173\n",
              "Onboard_Wifi_Service     94349      6             Good  22835\n",
              "Onboard_Entertainment    94361      6             Good  30446\n",
              "Online_Support           94288      6             Good  30016\n",
              "Ease_of_Online_Booking   94306      6             Good  28909\n",
              "Onboard_Service          86778      6             Good  27265\n",
              "Legroom                  94289      6             Good  28870\n",
              "Baggage_Handling         94237      5             Good  34944\n",
              "CheckIn_Service          94302      6             Good  26502\n",
              "Cleanliness              94373      6             Good  35427\n",
              "Online_Boarding          94373      6             Good  25533"
            ],
            "text/html": [
              "\n",
              "  <div id=\"df-b07b2800-45d7-4b37-92ac-4645b4092b08\">\n",
              "    <div class=\"colab-df-container\">\n",
              "      <div>\n",
              "<style scoped>\n",
              "    .dataframe tbody tr th:only-of-type {\n",
              "        vertical-align: middle;\n",
              "    }\n",
              "\n",
              "    .dataframe tbody tr th {\n",
              "        vertical-align: top;\n",
              "    }\n",
              "\n",
              "    .dataframe thead th {\n",
              "        text-align: right;\n",
              "    }\n",
              "</style>\n",
              "<table border=\"1\" class=\"dataframe\">\n",
              "  <thead>\n",
              "    <tr style=\"text-align: right;\">\n",
              "      <th></th>\n",
              "      <th>count</th>\n",
              "      <th>unique</th>\n",
              "      <th>top</th>\n",
              "      <th>freq</th>\n",
              "    </tr>\n",
              "  </thead>\n",
              "  <tbody>\n",
              "    <tr>\n",
              "      <th>Gender</th>\n",
              "      <td>94302</td>\n",
              "      <td>2</td>\n",
              "      <td>Female</td>\n",
              "      <td>47815</td>\n",
              "    </tr>\n",
              "    <tr>\n",
              "      <th>Customer_Type</th>\n",
              "      <td>85428</td>\n",
              "      <td>2</td>\n",
              "      <td>Loyal Customer</td>\n",
              "      <td>69823</td>\n",
              "    </tr>\n",
              "    <tr>\n",
              "      <th>Type_Travel</th>\n",
              "      <td>85153</td>\n",
              "      <td>2</td>\n",
              "      <td>Business Travel</td>\n",
              "      <td>58617</td>\n",
              "    </tr>\n",
              "    <tr>\n",
              "      <th>Travel_Class</th>\n",
              "      <td>94379</td>\n",
              "      <td>2</td>\n",
              "      <td>Eco</td>\n",
              "      <td>49342</td>\n",
              "    </tr>\n",
              "    <tr>\n",
              "      <th>Seat_Comfort</th>\n",
              "      <td>94318</td>\n",
              "      <td>6</td>\n",
              "      <td>Acceptable</td>\n",
              "      <td>21158</td>\n",
              "    </tr>\n",
              "    <tr>\n",
              "      <th>Seat_Class</th>\n",
              "      <td>94379</td>\n",
              "      <td>2</td>\n",
              "      <td>Green Car</td>\n",
              "      <td>47435</td>\n",
              "    </tr>\n",
              "    <tr>\n",
              "      <th>Arrival_Time_Convenient</th>\n",
              "      <td>85449</td>\n",
              "      <td>6</td>\n",
              "      <td>Good</td>\n",
              "      <td>19574</td>\n",
              "    </tr>\n",
              "    <tr>\n",
              "      <th>Catering</th>\n",
              "      <td>85638</td>\n",
              "      <td>6</td>\n",
              "      <td>Acceptable</td>\n",
              "      <td>18468</td>\n",
              "    </tr>\n",
              "    <tr>\n",
              "      <th>Platform_Location</th>\n",
              "      <td>94349</td>\n",
              "      <td>6</td>\n",
              "      <td>Manageable</td>\n",
              "      <td>24173</td>\n",
              "    </tr>\n",
              "    <tr>\n",
              "      <th>Onboard_Wifi_Service</th>\n",
              "      <td>94349</td>\n",
              "      <td>6</td>\n",
              "      <td>Good</td>\n",
              "      <td>22835</td>\n",
              "    </tr>\n",
              "    <tr>\n",
              "      <th>Onboard_Entertainment</th>\n",
              "      <td>94361</td>\n",
              "      <td>6</td>\n",
              "      <td>Good</td>\n",
              "      <td>30446</td>\n",
              "    </tr>\n",
              "    <tr>\n",
              "      <th>Online_Support</th>\n",
              "      <td>94288</td>\n",
              "      <td>6</td>\n",
              "      <td>Good</td>\n",
              "      <td>30016</td>\n",
              "    </tr>\n",
              "    <tr>\n",
              "      <th>Ease_of_Online_Booking</th>\n",
              "      <td>94306</td>\n",
              "      <td>6</td>\n",
              "      <td>Good</td>\n",
              "      <td>28909</td>\n",
              "    </tr>\n",
              "    <tr>\n",
              "      <th>Onboard_Service</th>\n",
              "      <td>86778</td>\n",
              "      <td>6</td>\n",
              "      <td>Good</td>\n",
              "      <td>27265</td>\n",
              "    </tr>\n",
              "    <tr>\n",
              "      <th>Legroom</th>\n",
              "      <td>94289</td>\n",
              "      <td>6</td>\n",
              "      <td>Good</td>\n",
              "      <td>28870</td>\n",
              "    </tr>\n",
              "    <tr>\n",
              "      <th>Baggage_Handling</th>\n",
              "      <td>94237</td>\n",
              "      <td>5</td>\n",
              "      <td>Good</td>\n",
              "      <td>34944</td>\n",
              "    </tr>\n",
              "    <tr>\n",
              "      <th>CheckIn_Service</th>\n",
              "      <td>94302</td>\n",
              "      <td>6</td>\n",
              "      <td>Good</td>\n",
              "      <td>26502</td>\n",
              "    </tr>\n",
              "    <tr>\n",
              "      <th>Cleanliness</th>\n",
              "      <td>94373</td>\n",
              "      <td>6</td>\n",
              "      <td>Good</td>\n",
              "      <td>35427</td>\n",
              "    </tr>\n",
              "    <tr>\n",
              "      <th>Online_Boarding</th>\n",
              "      <td>94373</td>\n",
              "      <td>6</td>\n",
              "      <td>Good</td>\n",
              "      <td>25533</td>\n",
              "    </tr>\n",
              "  </tbody>\n",
              "</table>\n",
              "</div>\n",
              "      <button class=\"colab-df-convert\" onclick=\"convertToInteractive('df-b07b2800-45d7-4b37-92ac-4645b4092b08')\"\n",
              "              title=\"Convert this dataframe to an interactive table.\"\n",
              "              style=\"display:none;\">\n",
              "        \n",
              "  <svg xmlns=\"http://www.w3.org/2000/svg\" height=\"24px\"viewBox=\"0 0 24 24\"\n",
              "       width=\"24px\">\n",
              "    <path d=\"M0 0h24v24H0V0z\" fill=\"none\"/>\n",
              "    <path d=\"M18.56 5.44l.94 2.06.94-2.06 2.06-.94-2.06-.94-.94-2.06-.94 2.06-2.06.94zm-11 1L8.5 8.5l.94-2.06 2.06-.94-2.06-.94L8.5 2.5l-.94 2.06-2.06.94zm10 10l.94 2.06.94-2.06 2.06-.94-2.06-.94-.94-2.06-.94 2.06-2.06.94z\"/><path d=\"M17.41 7.96l-1.37-1.37c-.4-.4-.92-.59-1.43-.59-.52 0-1.04.2-1.43.59L10.3 9.45l-7.72 7.72c-.78.78-.78 2.05 0 2.83L4 21.41c.39.39.9.59 1.41.59.51 0 1.02-.2 1.41-.59l7.78-7.78 2.81-2.81c.8-.78.8-2.07 0-2.86zM5.41 20L4 18.59l7.72-7.72 1.47 1.35L5.41 20z\"/>\n",
              "  </svg>\n",
              "      </button>\n",
              "      \n",
              "  <style>\n",
              "    .colab-df-container {\n",
              "      display:flex;\n",
              "      flex-wrap:wrap;\n",
              "      gap: 12px;\n",
              "    }\n",
              "\n",
              "    .colab-df-convert {\n",
              "      background-color: #E8F0FE;\n",
              "      border: none;\n",
              "      border-radius: 50%;\n",
              "      cursor: pointer;\n",
              "      display: none;\n",
              "      fill: #1967D2;\n",
              "      height: 32px;\n",
              "      padding: 0 0 0 0;\n",
              "      width: 32px;\n",
              "    }\n",
              "\n",
              "    .colab-df-convert:hover {\n",
              "      background-color: #E2EBFA;\n",
              "      box-shadow: 0px 1px 2px rgba(60, 64, 67, 0.3), 0px 1px 3px 1px rgba(60, 64, 67, 0.15);\n",
              "      fill: #174EA6;\n",
              "    }\n",
              "\n",
              "    [theme=dark] .colab-df-convert {\n",
              "      background-color: #3B4455;\n",
              "      fill: #D2E3FC;\n",
              "    }\n",
              "\n",
              "    [theme=dark] .colab-df-convert:hover {\n",
              "      background-color: #434B5C;\n",
              "      box-shadow: 0px 1px 3px 1px rgba(0, 0, 0, 0.15);\n",
              "      filter: drop-shadow(0px 1px 2px rgba(0, 0, 0, 0.3));\n",
              "      fill: #FFFFFF;\n",
              "    }\n",
              "  </style>\n",
              "\n",
              "      <script>\n",
              "        const buttonEl =\n",
              "          document.querySelector('#df-b07b2800-45d7-4b37-92ac-4645b4092b08 button.colab-df-convert');\n",
              "        buttonEl.style.display =\n",
              "          google.colab.kernel.accessAllowed ? 'block' : 'none';\n",
              "\n",
              "        async function convertToInteractive(key) {\n",
              "          const element = document.querySelector('#df-b07b2800-45d7-4b37-92ac-4645b4092b08');\n",
              "          const dataTable =\n",
              "            await google.colab.kernel.invokeFunction('convertToInteractive',\n",
              "                                                     [key], {});\n",
              "          if (!dataTable) return;\n",
              "\n",
              "          const docLinkHtml = 'Like what you see? Visit the ' +\n",
              "            '<a target=\"_blank\" href=https://colab.research.google.com/notebooks/data_table.ipynb>data table notebook</a>'\n",
              "            + ' to learn more about interactive tables.';\n",
              "          element.innerHTML = '';\n",
              "          dataTable['output_type'] = 'display_data';\n",
              "          await google.colab.output.renderOutput(dataTable, element);\n",
              "          const docLink = document.createElement('div');\n",
              "          docLink.innerHTML = docLinkHtml;\n",
              "          element.appendChild(docLink);\n",
              "        }\n",
              "      </script>\n",
              "    </div>\n",
              "  </div>\n",
              "  "
            ]
          },
          "metadata": {},
          "execution_count": 178
        }
      ]
    },
    {
      "cell_type": "code",
      "source": [
        "satisfaction_dataset.value_counts()"
      ],
      "metadata": {
        "colab": {
          "base_uri": "https://localhost:8080/"
        },
        "id": "al8IBafzsDzI",
        "outputId": "eea96e87-a8cd-4b91-aaf9-0a1ecd223b8b"
      },
      "execution_count": 179,
      "outputs": [
        {
          "output_type": "execute_result",
          "data": {
            "text/plain": [
              "1    51593\n",
              "0    42786\n",
              "Name: Overall_Experience, dtype: int64"
            ]
          },
          "metadata": {},
          "execution_count": 179
        }
      ]
    },
    {
      "cell_type": "code",
      "source": [
        "plt.pie(satisfaction_dataset.value_counts(), \n",
        "        labels = [\"Satisfied\", \"Not Satisfied\"], \n",
        "        colors = sns.color_palette(\"YlOrBr\"), \n",
        "        autopct = '%1.1f%%')\n",
        "pass"
      ],
      "metadata": {
        "colab": {
          "base_uri": "https://localhost:8080/",
          "height": 248
        },
        "id": "AciB59sEPozI",
        "outputId": "31230180-61e9-4990-c44a-9d586f1e2d58"
      },
      "execution_count": 180,
      "outputs": [
        {
          "output_type": "display_data",
          "data": {
            "text/plain": [
              "<Figure size 432x288 with 1 Axes>"
            ],
            "image/png": "[encoded data removed]"
          },
          "metadata": {}
        }
      ]
    },
    {
      "cell_type": "markdown",
      "source": [
        "The target is more or less well-balanced"
      ],
      "metadata": {
        "id": "4v_PKYt1QWt2"
      }
    },
    {
      "cell_type": "markdown",
      "source": [
        "Matrix of correlation of quantitative features"
      ],
      "metadata": {
        "id": "Xi-Tp6rqQjju"
      }
    },
    {
      "cell_type": "code",
      "source": [
        "train_corr_mat = train_dataset.corr()\n",
        "train_corr_mat"
      ],
      "metadata": {
        "colab": {
          "base_uri": "https://localhost:8080/",
          "height": 173
        },
        "id": "oGb0IhYEQpq4",
        "outputId": "97328bf7-ddd2-4db4-a714-de619e738e02"
      },
      "execution_count": 181,
      "outputs": [
        {
          "output_type": "execute_result",
          "data": {
            "text/plain": [
              "                              Age  Travel_Distance  Departure_Delay_in_Mins  \\\n",
              "Age                      1.000000        -0.251570                -0.007973   \n",
              "Travel_Distance         -0.251570         1.000000                 0.114174   \n",
              "Departure_Delay_in_Mins -0.007973         0.114174                 1.000000   \n",
              "Arrival_Delay_in_Mins   -0.010610         0.111317                 0.965483   \n",
              "\n",
              "                         Arrival_Delay_in_Mins  \n",
              "Age                                  -0.010610  \n",
              "Travel_Distance                       0.111317  \n",
              "Departure_Delay_in_Mins               0.965483  \n",
              "Arrival_Delay_in_Mins                 1.000000  "
            ],
            "text/html": [
              "\n",
              "  <div id=\"df-bb9fe483-7c91-4ce4-a803-4cceefe9d288\">\n",
              "    <div class=\"colab-df-container\">\n",
              "      <div>\n",
              "<style scoped>\n",
              "    .dataframe tbody tr th:only-of-type {\n",
              "        vertical-align: middle;\n",
              "    }\n",
              "\n",
              "    .dataframe tbody tr th {\n",
              "        vertical-align: top;\n",
              "    }\n",
              "\n",
              "    .dataframe thead th {\n",
              "        text-align: right;\n",
              "    }\n",
              "</style>\n",
              "<table border=\"1\" class=\"dataframe\">\n",
              "  <thead>\n",
              "    <tr style=\"text-align: right;\">\n",
              "      <th></th>\n",
              "      <th>Age</th>\n",
              "      <th>Travel_Distance</th>\n",
              "      <th>Departure_Delay_in_Mins</th>\n",
              "      <th>Arrival_Delay_in_Mins</th>\n",
              "    </tr>\n",
              "  </thead>\n",
              "  <tbody>\n",
              "    <tr>\n",
              "      <th>Age</th>\n",
              "      <td>1.000000</td>\n",
              "      <td>-0.251570</td>\n",
              "      <td>-0.007973</td>\n",
              "      <td>-0.010610</td>\n",
              "    </tr>\n",
              "    <tr>\n",
              "      <th>Travel_Distance</th>\n",
              "      <td>-0.251570</td>\n",
              "      <td>1.000000</td>\n",
              "      <td>0.114174</td>\n",
              "      <td>0.111317</td>\n",
              "    </tr>\n",
              "    <tr>\n",
              "      <th>Departure_Delay_in_Mins</th>\n",
              "      <td>-0.007973</td>\n",
              "      <td>0.114174</td>\n",
              "      <td>1.000000</td>\n",
              "      <td>0.965483</td>\n",
              "    </tr>\n",
              "    <tr>\n",
              "      <th>Arrival_Delay_in_Mins</th>\n",
              "      <td>-0.010610</td>\n",
              "      <td>0.111317</td>\n",
              "      <td>0.965483</td>\n",
              "      <td>1.000000</td>\n",
              "    </tr>\n",
              "  </tbody>\n",
              "</table>\n",
              "</div>\n",
              "      <button class=\"colab-df-convert\" onclick=\"convertToInteractive('df-bb9fe483-7c91-4ce4-a803-4cceefe9d288')\"\n",
              "              title=\"Convert this dataframe to an interactive table.\"\n",
              "              style=\"display:none;\">\n",
              "        \n",
              "  <svg xmlns=\"http://www.w3.org/2000/svg\" height=\"24px\"viewBox=\"0 0 24 24\"\n",
              "       width=\"24px\">\n",
              "    <path d=\"M0 0h24v24H0V0z\" fill=\"none\"/>\n",
              "    <path d=\"M18.56 5.44l.94 2.06.94-2.06 2.06-.94-2.06-.94-.94-2.06-.94 2.06-2.06.94zm-11 1L8.5 8.5l.94-2.06 2.06-.94-2.06-.94L8.5 2.5l-.94 2.06-2.06.94zm10 10l.94 2.06.94-2.06 2.06-.94-2.06-.94-.94-2.06-.94 2.06-2.06.94z\"/><path d=\"M17.41 7.96l-1.37-1.37c-.4-.4-.92-.59-1.43-.59-.52 0-1.04.2-1.43.59L10.3 9.45l-7.72 7.72c-.78.78-.78 2.05 0 2.83L4 21.41c.39.39.9.59 1.41.59.51 0 1.02-.2 1.41-.59l7.78-7.78 2.81-2.81c.8-.78.8-2.07 0-2.86zM5.41 20L4 18.59l7.72-7.72 1.47 1.35L5.41 20z\"/>\n",
              "  </svg>\n",
              "      </button>\n",
              "      \n",
              "  <style>\n",
              "    .colab-df-container {\n",
              "      display:flex;\n",
              "      flex-wrap:wrap;\n",
              "      gap: 12px;\n",
              "    }\n",
              "\n",
              "    .colab-df-convert {\n",
              "      background-color: #E8F0FE;\n",
              "      border: none;\n",
              "      border-radius: 50%;\n",
              "      cursor: pointer;\n",
              "      display: none;\n",
              "      fill: #1967D2;\n",
              "      height: 32px;\n",
              "      padding: 0 0 0 0;\n",
              "      width: 32px;\n",
              "    }\n",
              "\n",
              "    .colab-df-convert:hover {\n",
              "      background-color: #E2EBFA;\n",
              "      box-shadow: 0px 1px 2px rgba(60, 64, 67, 0.3), 0px 1px 3px 1px rgba(60, 64, 67, 0.15);\n",
              "      fill: #174EA6;\n",
              "    }\n",
              "\n",
              "    [theme=dark] .colab-df-convert {\n",
              "      background-color: #3B4455;\n",
              "      fill: #D2E3FC;\n",
              "    }\n",
              "\n",
              "    [theme=dark] .colab-df-convert:hover {\n",
              "      background-color: #434B5C;\n",
              "      box-shadow: 0px 1px 3px 1px rgba(0, 0, 0, 0.15);\n",
              "      filter: drop-shadow(0px 1px 2px rgba(0, 0, 0, 0.3));\n",
              "      fill: #FFFFFF;\n",
              "    }\n",
              "  </style>\n",
              "\n",
              "      <script>\n",
              "        const buttonEl =\n",
              "          document.querySelector('#df-bb9fe483-7c91-4ce4-a803-4cceefe9d288 button.colab-df-convert');\n",
              "        buttonEl.style.display =\n",
              "          google.colab.kernel.accessAllowed ? 'block' : 'none';\n",
              "\n",
              "        async function convertToInteractive(key) {\n",
              "          const element = document.querySelector('#df-bb9fe483-7c91-4ce4-a803-4cceefe9d288');\n",
              "          const dataTable =\n",
              "            await google.colab.kernel.invokeFunction('convertToInteractive',\n",
              "                                                     [key], {});\n",
              "          if (!dataTable) return;\n",
              "\n",
              "          const docLinkHtml = 'Like what you see? Visit the ' +\n",
              "            '<a target=\"_blank\" href=https://colab.research.google.com/notebooks/data_table.ipynb>data table notebook</a>'\n",
              "            + ' to learn more about interactive tables.';\n",
              "          element.innerHTML = '';\n",
              "          dataTable['output_type'] = 'display_data';\n",
              "          await google.colab.output.renderOutput(dataTable, element);\n",
              "          const docLink = document.createElement('div');\n",
              "          docLink.innerHTML = docLinkHtml;\n",
              "          element.appendChild(docLink);\n",
              "        }\n",
              "      </script>\n",
              "    </div>\n",
              "  </div>\n",
              "  "
            ]
          },
          "metadata": {},
          "execution_count": 181
        }
      ]
    },
    {
      "cell_type": "code",
      "source": [
        "sns.heatmap(train_corr_mat, square = True, cmap = 'Blues')\n",
        "pass"
      ],
      "metadata": {
        "colab": {
          "base_uri": "https://localhost:8080/",
          "height": 386
        },
        "id": "P3gMLwKnQ1s6",
        "outputId": "c5bae981-92df-47a9-cb36-0b79cf0eff9b"
      },
      "execution_count": 182,
      "outputs": [
        {
          "output_type": "display_data",
          "data": {
            "text/plain": [
              "<Figure size 432x288 with 2 Axes>"
            ],
            "image/png": "[encoded data removed]"
          },
          "metadata": {
            "needs_background": "light"
          }
        }
      ]
    },
    {
      "cell_type": "markdown",
      "source": [
        "Observations :\n",
        "- as expected, there is a strong correlation between Departure_Delay_in_Mins and Arrival_Delay_in_Mins"
      ],
      "metadata": {
        "id": "8QuVqlPLSkuB"
      }
    },
    {
      "cell_type": "code",
      "source": [
        "train_corr_mat.where(np.triu(train_corr_mat > 0.5, k=1)).stack().sort_values(ascending = False)"
      ],
      "metadata": {
        "colab": {
          "base_uri": "https://localhost:8080/"
        },
        "id": "urgLlXLpTMmN",
        "outputId": "f9461e1f-399a-4a06-961c-df9e0a7dad9f"
      },
      "execution_count": 183,
      "outputs": [
        {
          "output_type": "execute_result",
          "data": {
            "text/plain": [
              "Departure_Delay_in_Mins  Arrival_Delay_in_Mins    0.965483\n",
              "dtype: float64"
            ]
          },
          "metadata": {},
          "execution_count": 183
        }
      ]
    },
    {
      "cell_type": "code",
      "source": [
        "plt.scatter(train_dataset['Arrival_Delay_in_Mins'], train_dataset['Departure_Delay_in_Mins'], alpha = 0.5)\n",
        "pass"
      ],
      "metadata": {
        "colab": {
          "base_uri": "https://localhost:8080/",
          "height": 265
        },
        "id": "w84TIzurS2tE",
        "outputId": "56b3d425-06b7-4c0e-eea3-1f9e73e5fa9e"
      },
      "execution_count": 184,
      "outputs": [
        {
          "output_type": "display_data",
          "data": {
            "text/plain": [
              "<Figure size 432x288 with 1 Axes>"
            ],
            "image/png": "[encoded data removed]"
          },
          "metadata": {
            "needs_background": "light"
          }
        }
      ]
    },
    {
      "cell_type": "markdown",
      "source": [
        "It is clear that the dependance between arrival delay time and Departure delay time is linear.\n",
        "\n",
        "Obvisouly, if the train leaves with a delay, its arrival as almost the same delay (or in a linear way). The train does not accelarate to compensate its late.\n",
        "\n",
        "After this analysis, we are ready to correct missing values of the column 'Arrival_delay_in_Mins'"
      ],
      "metadata": {
        "id": "O2PCeMQVThwu"
      }
    },
    {
      "cell_type": "code",
      "source": [
        "train_dataset['Arrival_Delay_in_Mins'] = train_dataset['Arrival_Delay_in_Mins'].fillna(train_dataset['Departure_Delay_in_Mins'])\n",
        "train_dataset['Departure_Delay_in_Mins'] = train_dataset['Departure_Delay_in_Mins'].fillna(train_dataset['Departure_Delay_in_Mins'].median(axis=0))\n",
        "train_dataset['Arrival_Delay_in_Mins'] = train_dataset['Arrival_Delay_in_Mins'].fillna(train_dataset['Arrival_Delay_in_Mins'].median(axis=0))\n",
        "\n",
        "train_dataset[['Arrival_Delay_in_Mins', 'Departure_Delay_in_Mins']].isnull().sum()"
      ],
      "metadata": {
        "colab": {
          "base_uri": "https://localhost:8080/"
        },
        "id": "ELEeGYbsebn7",
        "outputId": "cf9a0450-2304-450f-8f54-8ae88db55474"
      },
      "execution_count": 185,
      "outputs": [
        {
          "output_type": "execute_result",
          "data": {
            "text/plain": [
              "Arrival_Delay_in_Mins      0\n",
              "Departure_Delay_in_Mins    0\n",
              "dtype: int64"
            ]
          },
          "metadata": {},
          "execution_count": 185
        }
      ]
    },
    {
      "cell_type": "markdown",
      "source": [
        "Let's plot again the correlation of those 2 features"
      ],
      "metadata": {
        "id": "7DTu7jqAldpg"
      }
    },
    {
      "cell_type": "code",
      "source": [
        "plt.scatter(train_dataset['Arrival_Delay_in_Mins'], train_dataset['Departure_Delay_in_Mins'], alpha = 0.5)\n",
        "pass"
      ],
      "metadata": {
        "colab": {
          "base_uri": "https://localhost:8080/",
          "height": 265
        },
        "id": "x2M0hkEvloXA",
        "outputId": "2d9ae2a2-7617-41c8-a078-cb53d7dd0642"
      },
      "execution_count": 186,
      "outputs": [
        {
          "output_type": "display_data",
          "data": {
            "text/plain": [
              "<Figure size 432x288 with 1 Axes>"
            ],
            "image/png": "[encoded data removed]"
          },
          "metadata": {
            "needs_background": "light"
          }
        }
      ]
    },
    {
      "cell_type": "markdown",
      "source": [
        "Let's fix missing value for Age"
      ],
      "metadata": {
        "id": "BLZN3DNBtVIC"
      }
    },
    {
      "cell_type": "code",
      "source": [
        "sns.boxplot(train_dataset.Age)\n",
        "pass"
      ],
      "metadata": {
        "colab": {
          "base_uri": "https://localhost:8080/",
          "height": 279
        },
        "id": "k1pLkJUVtUrL",
        "outputId": "c1d1d08b-a2f2-4723-c7ba-715d82bc3758"
      },
      "execution_count": 187,
      "outputs": [
        {
          "output_type": "display_data",
          "data": {
            "text/plain": [
              "<Figure size 432x288 with 1 Axes>"
            ],
            "image/png": "[encoded data removed]"
          },
          "metadata": {
            "needs_background": "light"
          }
        }
      ]
    },
    {
      "cell_type": "markdown",
      "source": [
        "Let's fill Age with mean as the data is not skewed, \n"
      ],
      "metadata": {
        "id": "bSEojDC5t1mb"
      }
    },
    {
      "cell_type": "code",
      "source": [
        "train_dataset.Age.fillna(value = train_dataset.Age.mean(), inplace=True)\n",
        "train_dataset.Age.isnull().sum()\n"
      ],
      "metadata": {
        "colab": {
          "base_uri": "https://localhost:8080/"
        },
        "id": "haOZwqiht86I",
        "outputId": "c9c3033a-02b6-46ba-be3b-bd7091d2e8d8"
      },
      "execution_count": 188,
      "outputs": [
        {
          "output_type": "execute_result",
          "data": {
            "text/plain": [
              "0"
            ]
          },
          "metadata": {},
          "execution_count": 188
        }
      ]
    },
    {
      "cell_type": "markdown",
      "source": [
        "Let's see now the ratio of values for each categorical feature"
      ],
      "metadata": {
        "id": "JRi3jYRcW9ao"
      }
    },
    {
      "cell_type": "code",
      "source": [
        "train_dataset.info()"
      ],
      "metadata": {
        "colab": {
          "base_uri": "https://localhost:8080/"
        },
        "id": "0SAgtsmQYSJS",
        "outputId": "ce650369-fcb8-471e-f23e-ecdff43ffabb"
      },
      "execution_count": 189,
      "outputs": [
        {
          "output_type": "stream",
          "name": "stdout",
          "text": [
            "<class 'pandas.core.frame.DataFrame'>\n",
            "Int64Index: 94379 entries, 0 to 94378\n",
            "Data columns (total 23 columns):\n",
            " #   Column                   Non-Null Count  Dtype   \n",
            "---  ------                   --------------  -----   \n",
            " 0   Gender                   94302 non-null  category\n",
            " 1   Customer_Type            85428 non-null  category\n",
            " 2   Age                      94379 non-null  float64 \n",
            " 3   Type_Travel              85153 non-null  category\n",
            " 4   Travel_Class             94379 non-null  category\n",
            " 5   Travel_Distance          94379 non-null  int64   \n",
            " 6   Departure_Delay_in_Mins  94379 non-null  float64 \n",
            " 7   Arrival_Delay_in_Mins    94379 non-null  float64 \n",
            " 8   Seat_Comfort             94318 non-null  category\n",
            " 9   Seat_Class               94379 non-null  category\n",
            " 10  Arrival_Time_Convenient  85449 non-null  category\n",
            " 11  Catering                 85638 non-null  category\n",
            " 12  Platform_Location        94349 non-null  category\n",
            " 13  Onboard_Wifi_Service     94349 non-null  category\n",
            " 14  Onboard_Entertainment    94361 non-null  category\n",
            " 15  Online_Support           94288 non-null  category\n",
            " 16  Ease_of_Online_Booking   94306 non-null  category\n",
            " 17  Onboard_Service          86778 non-null  category\n",
            " 18  Legroom                  94289 non-null  category\n",
            " 19  Baggage_Handling         94237 non-null  category\n",
            " 20  CheckIn_Service          94302 non-null  category\n",
            " 21  Cleanliness              94373 non-null  category\n",
            " 22  Online_Boarding          94373 non-null  category\n",
            "dtypes: category(19), float64(3), int64(1)\n",
            "memory usage: 5.3 MB\n"
          ]
        }
      ]
    },
    {
      "cell_type": "code",
      "source": [
        "categorical_indices = [0, 1, 3, 4] + list(range(8, 23))\n",
        "cat = train_dataset.iloc[:,categorical_indices]\n",
        "fig, axes = plt.subplots(7, 3, figsize = (20, 20))\n",
        "for i, col in enumerate(cat):\n",
        "    column_values = train_dataset[col].value_counts()\n",
        "    labels = column_values.index\n",
        "    sizes = column_values.values\n",
        "    axes[i//3, i%3].pie(sizes, \n",
        "                        labels = labels, \n",
        "                        colors = sns.color_palette(\"YlOrBr\"), \n",
        "                        autopct = '%1.0f%%')\n",
        "    axes[i//3, i%3].axis('equal')\n",
        "    axes[i//3, i%3].set_title(col, color='r')\n",
        "plt.show()\n",
        "pass"
      ],
      "metadata": {
        "colab": {
          "base_uri": "https://localhost:8080/",
          "height": 1000
        },
        "id": "Bao24g-EXCH-",
        "outputId": "1073a8ee-c1d6-4ea1-b54c-a3f5dd9272ac"
      },
      "execution_count": 190,
      "outputs": [
        {
          "output_type": "display_data",
          "data": {
            "text/plain": [
              "<Figure size 1440x1440 with 21 Axes>"
            ],
            "image/png": "[encoded data removed]"
          },
          "metadata": {
            "needs_background": "light"
          }
        }
      ]
    },
    {
      "cell_type": "markdown",
      "source": [
        "Now we are ready to fix missing values for all features"
      ],
      "metadata": {
        "id": "NS_-v77ZukCX"
      }
    },
    {
      "cell_type": "code",
      "source": [
        "# init seeds\n",
        "clear_backend()"
      ],
      "metadata": {
        "id": "ZNziqK6zuuGu"
      },
      "execution_count": 191,
      "outputs": []
    },
    {
      "cell_type": "markdown",
      "source": [
        "Gender is uniformely distributed so we can easily fixed the missing values"
      ],
      "metadata": {
        "id": "Gssj16Jau02s"
      }
    },
    {
      "cell_type": "code",
      "source": [
        "values = ['Female', 'Male']\n",
        "train_dataset['Gender'] = train_dataset['Gender'].apply(lambda l: l if isinstance(l, pd.api.types.CategoricalDtype) else np.random.choice(values))\n",
        "\n",
        "train_dataset['Gender'].isnull().sum()"
      ],
      "metadata": {
        "colab": {
          "base_uri": "https://localhost:8080/"
        },
        "id": "v5Ae00lVu9Gh",
        "outputId": "35240289-6b2d-4da9-a8ff-0efbbb2587cd"
      },
      "execution_count": 201,
      "outputs": [
        {
          "output_type": "execute_result",
          "data": {
            "text/plain": [
              "0"
            ]
          },
          "metadata": {},
          "execution_count": 201
        }
      ]
    },
    {
      "cell_type": "markdown",
      "source": [
        "Customer_Type has a 'Loyal Customer'/'Disloyal Customer' ratio near 80/20 so we can fix the missing values"
      ],
      "metadata": {
        "id": "CsnlKutX80RK"
      }
    },
    {
      "cell_type": "code",
      "source": [
        "values = ['Loyal Customer', 'Loyal Customer', \n",
        "          'Loyal Customer', 'Loyal Customer', \n",
        "          'Loyal Customer', 'Loyal Customer', \n",
        "          'Loyal Customer', 'Loyal Customer', \n",
        "          'Disloyal Customer', 'Disloyal Customer']\n",
        "train_dataset['Customer_Type'] = train_dataset['Customer_Type'].apply(lambda l: l if isinstance(l, pd.api.types.CategoricalDtype) else np.random.choice(values))\n",
        "\n",
        "train_dataset['Customer_Type'].isnull().sum()"
      ],
      "metadata": {
        "colab": {
          "base_uri": "https://localhost:8080/"
        },
        "id": "X1dM2CjE8_9v",
        "outputId": "8a1baee4-d2a0-4373-d156-4a8bdb5a4602"
      },
      "execution_count": 199,
      "outputs": [
        {
          "output_type": "execute_result",
          "data": {
            "text/plain": [
              "0"
            ]
          },
          "metadata": {},
          "execution_count": 199
        }
      ]
    },
    {
      "cell_type": "markdown",
      "source": [
        "Type_Travel has a 'Business travel'/'Personal Travel' ratio near 70/30 so again we can fix the missing values\n"
      ],
      "metadata": {
        "id": "RPJrD4PQ902I"
      }
    },
    {
      "cell_type": "code",
      "source": [
        "values = ['Business Travel', 'Business Travel', \n",
        "          'Business Travel', 'Business Travel', \n",
        "          'Business Travel', 'Business Travel', \n",
        "          'Business Travel', 'Personal Travel', \n",
        "          'Personal Travel', 'Personal Travel']\n",
        "train_dataset['Type_Travel'] = train_dataset['Type_Travel'].apply(lambda l: l if isinstance(l, pd.api.types.CategoricalDtype) else np.random.choice(values))\n",
        "\n",
        "train_dataset['Type_Travel'].isnull().sum()"
      ],
      "metadata": {
        "colab": {
          "base_uri": "https://localhost:8080/"
        },
        "id": "i4hwNUDl-Aax",
        "outputId": "1f15d87b-0e22-4e5d-9981-0d69e1707d93"
      },
      "execution_count": 198,
      "outputs": [
        {
          "output_type": "execute_result",
          "data": {
            "text/plain": [
              "0"
            ]
          },
          "metadata": {},
          "execution_count": 198
        }
      ]
    },
    {
      "cell_type": "markdown",
      "source": [
        "For \n",
        "- Seat_Comfort             \n",
        "- Arrival_Time_Convenient  \n",
        "- Catering                 \n",
        "- Platform_Location        \n",
        "- Onboard_Wifi_Service     \n",
        "- Onboard_Entertainment    \n",
        "- Online_Support           \n",
        "- Ease_of_Online_Booking   \n",
        "- Onboard_Service          \n",
        "- Legroom                  \n",
        "- Baggage_Handling         \n",
        "- CheckIn_Service          \n",
        "- Cleanliness              \n",
        "- Online_Boarding\n",
        "\n",
        "and according to their distributions, we can try to fulfil missing values with their mode"
      ],
      "metadata": {
        "id": "MzVRuD47veip"
      }
    },
    {
      "cell_type": "code",
      "source": [
        "train_dataset.isnull().sum()"
      ],
      "metadata": {
        "colab": {
          "base_uri": "https://localhost:8080/"
        },
        "id": "gKHwOLJ5yhg5",
        "outputId": "29e48cbb-e626-4a5d-c535-4b65fc6ed64b"
      },
      "execution_count": 195,
      "outputs": [
        {
          "output_type": "execute_result",
          "data": {
            "text/plain": [
              "Gender                       77\n",
              "Customer_Type              8951\n",
              "Age                           0\n",
              "Type_Travel                9226\n",
              "Travel_Class                  0\n",
              "Travel_Distance               0\n",
              "Departure_Delay_in_Mins       0\n",
              "Arrival_Delay_in_Mins         0\n",
              "Seat_Comfort                 61\n",
              "Seat_Class                    0\n",
              "Arrival_Time_Convenient    8930\n",
              "Catering                   8741\n",
              "Platform_Location            30\n",
              "Onboard_Wifi_Service         30\n",
              "Onboard_Entertainment        18\n",
              "Online_Support               91\n",
              "Ease_of_Online_Booking       73\n",
              "Onboard_Service            7601\n",
              "Legroom                      90\n",
              "Baggage_Handling            142\n",
              "CheckIn_Service              77\n",
              "Cleanliness                   6\n",
              "Online_Boarding               6\n",
              "dtype: int64"
            ]
          },
          "metadata": {},
          "execution_count": 195
        }
      ]
    },
    {
      "cell_type": "code",
      "source": [
        "train_dataset['Seat_Comfort'].fillna(statistics.mode(train_dataset['Seat_Comfort']), inplace=True)\n",
        "train_dataset['Arrival_Time_Convenient'].fillna(statistics.mode(train_dataset['Arrival_Time_Convenient']), inplace=True)\n",
        "train_dataset['Catering'].fillna(statistics.mode(train_dataset['Catering']), inplace=True)\n",
        "train_dataset['Platform_Location'].fillna(statistics.mode(train_dataset['Platform_Location']), inplace=True)\n",
        "train_dataset['Onboard_Wifi_Service'].fillna(statistics.mode(train_dataset['Onboard_Wifi_Service']), inplace=True)\n",
        "train_dataset['Onboard_Entertainment'].fillna(statistics.mode(train_dataset['Onboard_Entertainment']), inplace=True)\n",
        "train_dataset['Online_Support'].fillna(statistics.mode(train_dataset['Online_Support']), inplace=True)\n",
        "train_dataset['Ease_of_Online_Booking'].fillna(statistics.mode(train_dataset['Ease_of_Online_Booking']), inplace=True)\n",
        "train_dataset['Onboard_Service'].fillna(statistics.mode(train_dataset['Onboard_Service']), inplace=True)\n",
        "train_dataset['Legroom'].fillna(statistics.mode(train_dataset['Legroom']), inplace=True)\n",
        "train_dataset['Baggage_Handling'].fillna(statistics.mode(train_dataset['Baggage_Handling']), inplace=True)\n",
        "train_dataset['CheckIn_Service'].fillna(statistics.mode(train_dataset['CheckIn_Service']), inplace=True)\n",
        "train_dataset['Cleanliness'].fillna(statistics.mode(train_dataset['Cleanliness']), inplace=True)\n",
        "train_dataset['Online_Boarding'].fillna(statistics.mode(train_dataset['Online_Boarding']), inplace=True)\n"
      ],
      "metadata": {
        "id": "qwAfWGErw173"
      },
      "execution_count": 205,
      "outputs": []
    },
    {
      "cell_type": "code",
      "source": [
        "train_dataset.isnull().sum()"
      ],
      "metadata": {
        "colab": {
          "base_uri": "https://localhost:8080/"
        },
        "id": "_LL3SfEvzDey",
        "outputId": "7a7430af-433f-45a5-b78e-ae4692edb20e"
      },
      "execution_count": 206,
      "outputs": [
        {
          "output_type": "execute_result",
          "data": {
            "text/plain": [
              "Gender                     0\n",
              "Customer_Type              0\n",
              "Age                        0\n",
              "Type_Travel                0\n",
              "Travel_Class               0\n",
              "Travel_Distance            0\n",
              "Departure_Delay_in_Mins    0\n",
              "Arrival_Delay_in_Mins      0\n",
              "Seat_Comfort               0\n",
              "Seat_Class                 0\n",
              "Arrival_Time_Convenient    0\n",
              "Catering                   0\n",
              "Platform_Location          0\n",
              "Onboard_Wifi_Service       0\n",
              "Onboard_Entertainment      0\n",
              "Online_Support             0\n",
              "Ease_of_Online_Booking     0\n",
              "Onboard_Service            0\n",
              "Legroom                    0\n",
              "Baggage_Handling           0\n",
              "CheckIn_Service            0\n",
              "Cleanliness                0\n",
              "Online_Boarding            0\n",
              "dtype: int64"
            ]
          },
          "metadata": {},
          "execution_count": 206
        }
      ]
    },
    {
      "cell_type": "markdown",
      "source": [
        "All missing data have been fixed now"
      ],
      "metadata": {
        "id": "79Ng9Vni-H_h"
      }
    },
    {
      "cell_type": "markdown",
      "source": [
        "## Encode categorical data"
      ],
      "metadata": {
        "id": "AsbBGpAC_nxq"
      }
    },
    {
      "cell_type": "code",
      "source": [
        "train_dataset.info()"
      ],
      "metadata": {
        "colab": {
          "base_uri": "https://localhost:8080/"
        },
        "id": "2HH2AzFb_sjm",
        "outputId": "bf0703c8-154d-4032-c5b7-62662fc15a9c"
      },
      "execution_count": 207,
      "outputs": [
        {
          "output_type": "stream",
          "name": "stdout",
          "text": [
            "<class 'pandas.core.frame.DataFrame'>\n",
            "Int64Index: 94379 entries, 0 to 94378\n",
            "Data columns (total 23 columns):\n",
            " #   Column                   Non-Null Count  Dtype   \n",
            "---  ------                   --------------  -----   \n",
            " 0   Gender                   94379 non-null  object  \n",
            " 1   Customer_Type            94379 non-null  object  \n",
            " 2   Age                      94379 non-null  float64 \n",
            " 3   Type_Travel              94379 non-null  object  \n",
            " 4   Travel_Class             94379 non-null  category\n",
            " 5   Travel_Distance          94379 non-null  int64   \n",
            " 6   Departure_Delay_in_Mins  94379 non-null  float64 \n",
            " 7   Arrival_Delay_in_Mins    94379 non-null  float64 \n",
            " 8   Seat_Comfort             94379 non-null  category\n",
            " 9   Seat_Class               94379 non-null  category\n",
            " 10  Arrival_Time_Convenient  94379 non-null  category\n",
            " 11  Catering                 94379 non-null  category\n",
            " 12  Platform_Location        94379 non-null  category\n",
            " 13  Onboard_Wifi_Service     94379 non-null  category\n",
            " 14  Onboard_Entertainment    94379 non-null  category\n",
            " 15  Online_Support           94379 non-null  category\n",
            " 16  Ease_of_Online_Booking   94379 non-null  category\n",
            " 17  Onboard_Service          94379 non-null  category\n",
            " 18  Legroom                  94379 non-null  category\n",
            " 19  Baggage_Handling         94379 non-null  category\n",
            " 20  CheckIn_Service          94379 non-null  category\n",
            " 21  Cleanliness              94379 non-null  category\n",
            " 22  Online_Boarding          94379 non-null  category\n",
            "dtypes: category(16), float64(3), int64(1), object(3)\n",
            "memory usage: 7.2+ MB\n"
          ]
        }
      ]
    },
    {
      "cell_type": "markdown",
      "source": [
        "Fix category for Gender, Customer_Type and Type_travel"
      ],
      "metadata": {
        "id": "9YF-fDObCT72"
      }
    },
    {
      "cell_type": "code",
      "source": [
        "train_dataset['Gender'] = train_dataset.Gender.astype('category')\n",
        "train_dataset['Customer_Type'] = train_dataset.Gender.astype('category')\n",
        "train_dataset['Type_Travel'] = train_dataset.Gender.astype('category')\n",
        "\n",
        "train_dataset.info()"
      ],
      "metadata": {
        "colab": {
          "base_uri": "https://localhost:8080/"
        },
        "id": "Sy_VR7teCZnG",
        "outputId": "310e5ba4-3e08-4150-edd6-099071985193"
      },
      "execution_count": 217,
      "outputs": [
        {
          "output_type": "stream",
          "name": "stdout",
          "text": [
            "<class 'pandas.core.frame.DataFrame'>\n",
            "Int64Index: 94379 entries, 0 to 94378\n",
            "Data columns (total 23 columns):\n",
            " #   Column                   Non-Null Count  Dtype   \n",
            "---  ------                   --------------  -----   \n",
            " 0   Gender                   94379 non-null  category\n",
            " 1   Customer_Type            94379 non-null  category\n",
            " 2   Age                      94379 non-null  float64 \n",
            " 3   Type_Travel              94379 non-null  category\n",
            " 4   Travel_Class             94379 non-null  category\n",
            " 5   Travel_Distance          94379 non-null  int64   \n",
            " 6   Departure_Delay_in_Mins  94379 non-null  float64 \n",
            " 7   Arrival_Delay_in_Mins    94379 non-null  float64 \n",
            " 8   Seat_Comfort             94379 non-null  category\n",
            " 9   Seat_Class               94379 non-null  category\n",
            " 10  Arrival_Time_Convenient  94379 non-null  category\n",
            " 11  Catering                 94379 non-null  category\n",
            " 12  Platform_Location        94379 non-null  category\n",
            " 13  Onboard_Wifi_Service     94379 non-null  category\n",
            " 14  Onboard_Entertainment    94379 non-null  category\n",
            " 15  Online_Support           94379 non-null  category\n",
            " 16  Ease_of_Online_Booking   94379 non-null  category\n",
            " 17  Onboard_Service          94379 non-null  category\n",
            " 18  Legroom                  94379 non-null  category\n",
            " 19  Baggage_Handling         94379 non-null  category\n",
            " 20  CheckIn_Service          94379 non-null  category\n",
            " 21  Cleanliness              94379 non-null  category\n",
            " 22  Online_Boarding          94379 non-null  category\n",
            "dtypes: category(19), float64(3), int64(1)\n",
            "memory usage: 5.3 MB\n"
          ]
        }
      ]
    },
    {
      "cell_type": "markdown",
      "source": [
        "First the numerical columns"
      ],
      "metadata": {
        "id": "rWRqTUwSBfpN"
      }
    },
    {
      "cell_type": "code",
      "source": [
        "numerical_columns = [c for c in train_dataset.columns if train_dataset[c].dtype.name != 'category']\n",
        "categorical_columns = [c for c in train_dataset.columns if train_dataset[c].dtype.name == 'category']\n",
        "train_data_describe = train_dataset.describe(include = ['category'])"
      ],
      "metadata": {
        "id": "dkpV86aTBe16"
      },
      "execution_count": 218,
      "outputs": []
    },
    {
      "cell_type": "markdown",
      "source": [
        "Split between binary and non-binary columns"
      ],
      "metadata": {
        "id": "nSiIoRyWBwgf"
      }
    },
    {
      "cell_type": "code",
      "source": [
        "binary_columns = [c for c in categorical_columns if train_data_describe[c]['unique'] == 2]\n",
        "nonbinary_columns = [c for c in categorical_columns if train_data_describe[c]['unique'] > 2]\n",
        "print(binary_columns)\n",
        "print(nonbinary_columns)"
      ],
      "metadata": {
        "colab": {
          "base_uri": "https://localhost:8080/"
        },
        "id": "AkzcfM4eB0j5",
        "outputId": "06112739-2dbb-435b-f299-0aac377cc2eb"
      },
      "execution_count": 219,
      "outputs": [
        {
          "output_type": "stream",
          "name": "stdout",
          "text": [
            "['Gender', 'Customer_Type', 'Type_Travel', 'Travel_Class', 'Seat_Class']\n",
            "['Seat_Comfort', 'Arrival_Time_Convenient', 'Catering', 'Platform_Location', 'Onboard_Wifi_Service', 'Onboard_Entertainment', 'Online_Support', 'Ease_of_Online_Booking', 'Onboard_Service', 'Legroom', 'Baggage_Handling', 'CheckIn_Service', 'Cleanliness', 'Online_Boarding']\n"
          ]
        }
      ]
    }
  ]
}